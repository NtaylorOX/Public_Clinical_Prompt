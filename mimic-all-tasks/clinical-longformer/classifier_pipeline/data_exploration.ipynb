{
 "cells": [
  {
   "cell_type": "code",
   "execution_count": 1,
   "metadata": {},
   "outputs": [],
   "source": [
    "import pandas as pd\n",
    "import numpy as np  \n",
    "from numpy import random\n",
    "\n",
    "import seaborn as sns\n",
    "from pylab import rcParams\n",
    "import matplotlib.pyplot as plt\n",
    "from matplotlib import rc\n",
    "from torchnlp.encoders import LabelEncoder\n",
    "\n",
    "from transformers import AutoModel, AutoTokenizer\n",
    "\n",
    "%matplotlib inline\n",
    "%config InlineBackend.figure_format='retina'\n",
    "\n",
    "RANDOM_SEED = 42\n",
    "\n",
    "sns.set(style='whitegrid', palette='muted', font_scale=1.2)\n",
    "HAPPY_COLORS_PALETTE = [\"#01BEFE\", \"#FFDD00\", \"#FF7D00\", \"#FF006D\", \"#ADFF02\", \"#8F00FF\"]\n",
    "sns.set_palette(sns.color_palette(HAPPY_COLORS_PALETTE))\n",
    "rcParams['figure.figsize'] = 12, 8\n"
   ]
  },
  {
   "cell_type": "markdown",
   "metadata": {},
   "source": [
    "the data here has been processed from raw icd9 diagnosis codes data in mimic-iii.\n",
    "\n",
    "Whilst each subject can ultimately have multiple concurrent icd9 diagnoses - we are framing the task as predicting the diagnos code per admissions/discharge event, thus treating as i.i.d. Similar to that of : https://github.com/simonlevine/clinical-longformer/blob/master/Written%20Submission.pdf \n"
   ]
  },
  {
   "cell_type": "code",
   "execution_count": 2,
   "metadata": {},
   "outputs": [],
   "source": [
    "data_dir = \"../../data/intermediary-data/\"\n",
    "\n",
    "train_df = pd.read_csv(f\"{data_dir}/notes2diagnosis-icd-train.csv\", index_col = None)\n",
    "top_50_df = pd.read_csv(f\"{data_dir}/top_50_icd9/train.csv\", index_col = None)"
   ]
  },
  {
   "cell_type": "code",
   "execution_count": 8,
   "metadata": {},
   "outputs": [
    {
     "data": {
      "text/plain": [
       "(28105, 4)"
      ]
     },
     "execution_count": 8,
     "metadata": {},
     "output_type": "execute_result"
    }
   ],
   "source": [
    "train_df.shape"
   ]
  },
  {
   "cell_type": "code",
   "execution_count": 4,
   "metadata": {},
   "outputs": [
    {
     "data": {
      "text/html": [
       "<div>\n",
       "<style scoped>\n",
       "    .dataframe tbody tr th:only-of-type {\n",
       "        vertical-align: middle;\n",
       "    }\n",
       "\n",
       "    .dataframe tbody tr th {\n",
       "        vertical-align: top;\n",
       "    }\n",
       "\n",
       "    .dataframe thead th {\n",
       "        text-align: right;\n",
       "    }\n",
       "</style>\n",
       "<table border=\"1\" class=\"dataframe\">\n",
       "  <thead>\n",
       "    <tr style=\"text-align: right;\">\n",
       "      <th></th>\n",
       "      <th>Unnamed: 0</th>\n",
       "      <th>text</th>\n",
       "      <th>label</th>\n",
       "    </tr>\n",
       "  </thead>\n",
       "  <tbody>\n",
       "    <tr>\n",
       "      <th>0</th>\n",
       "      <td>1</td>\n",
       "      <td>: : : Sex: F Service: CARDIOTHORACIC Allergies...</td>\n",
       "      <td>4240</td>\n",
       "    </tr>\n",
       "    <tr>\n",
       "      <th>1</th>\n",
       "      <td>3</td>\n",
       "      <td>: : : Sex: F Service: NEONATOLOGY HISTORY: wee...</td>\n",
       "      <td>V3001</td>\n",
       "    </tr>\n",
       "    <tr>\n",
       "      <th>2</th>\n",
       "      <td>6</td>\n",
       "      <td>: : : Sex: M Service: CARDIOTHORACIC Allergies...</td>\n",
       "      <td>41041</td>\n",
       "    </tr>\n",
       "    <tr>\n",
       "      <th>3</th>\n",
       "      <td>7</td>\n",
       "      <td>: : : Sex: F Service: MEDICINE Allergies: Peni...</td>\n",
       "      <td>51881</td>\n",
       "    </tr>\n",
       "    <tr>\n",
       "      <th>4</th>\n",
       "      <td>8</td>\n",
       "      <td>: : : Sex: F Service: CARDIOTHORACIC Allergies...</td>\n",
       "      <td>3962</td>\n",
       "    </tr>\n",
       "  </tbody>\n",
       "</table>\n",
       "</div>"
      ],
      "text/plain": [
       "   Unnamed: 0                                               text  label\n",
       "0           1  : : : Sex: F Service: CARDIOTHORACIC Allergies...   4240\n",
       "1           3  : : : Sex: F Service: NEONATOLOGY HISTORY: wee...  V3001\n",
       "2           6  : : : Sex: M Service: CARDIOTHORACIC Allergies...  41041\n",
       "3           7  : : : Sex: F Service: MEDICINE Allergies: Peni...  51881\n",
       "4           8  : : : Sex: F Service: CARDIOTHORACIC Allergies...   3962"
      ]
     },
     "execution_count": 4,
     "metadata": {},
     "output_type": "execute_result"
    }
   ],
   "source": [
    "top_50_df.head()"
   ]
  },
  {
   "cell_type": "code",
   "execution_count": 9,
   "metadata": {},
   "outputs": [
    {
     "data": {
      "text/html": [
       "<div>\n",
       "<style scoped>\n",
       "    .dataframe tbody tr th:only-of-type {\n",
       "        vertical-align: middle;\n",
       "    }\n",
       "\n",
       "    .dataframe tbody tr th {\n",
       "        vertical-align: top;\n",
       "    }\n",
       "\n",
       "    .dataframe thead th {\n",
       "        text-align: right;\n",
       "    }\n",
       "</style>\n",
       "<table border=\"1\" class=\"dataframe\">\n",
       "  <thead>\n",
       "    <tr style=\"text-align: right;\">\n",
       "      <th></th>\n",
       "      <th>HADM_ID</th>\n",
       "      <th>TEXT</th>\n",
       "      <th>CATEGORY</th>\n",
       "      <th>ICD9_CODE</th>\n",
       "    </tr>\n",
       "  </thead>\n",
       "  <tbody>\n",
       "    <tr>\n",
       "      <th>0</th>\n",
       "      <td>188354.0</td>\n",
       "      <td>: : : Sex: F Service: MEDICINE Allergies: Sulf...</td>\n",
       "      <td>Discharge summary</td>\n",
       "      <td>44023</td>\n",
       "    </tr>\n",
       "    <tr>\n",
       "      <th>1</th>\n",
       "      <td>104471.0</td>\n",
       "      <td>: : : Sex: F Service: CARDIOTHORACIC Allergies...</td>\n",
       "      <td>Discharge summary</td>\n",
       "      <td>4240</td>\n",
       "    </tr>\n",
       "    <tr>\n",
       "      <th>2</th>\n",
       "      <td>157504.0</td>\n",
       "      <td>: : : Sex: M Service: NBB HISTORY OF PRESENT I...</td>\n",
       "      <td>Discharge summary</td>\n",
       "      <td>7746</td>\n",
       "    </tr>\n",
       "    <tr>\n",
       "      <th>3</th>\n",
       "      <td>157762.0</td>\n",
       "      <td>: : : Sex: F Service: NEONATOLOGY HISTORY: wee...</td>\n",
       "      <td>Discharge summary</td>\n",
       "      <td>V3001</td>\n",
       "    </tr>\n",
       "    <tr>\n",
       "      <th>4</th>\n",
       "      <td>118769.0</td>\n",
       "      <td>: : : Sex: M Service: CARDIOTHORACIC Allergies...</td>\n",
       "      <td>Discharge summary</td>\n",
       "      <td>3963</td>\n",
       "    </tr>\n",
       "  </tbody>\n",
       "</table>\n",
       "</div>"
      ],
      "text/plain": [
       "    HADM_ID                                               TEXT  \\\n",
       "0  188354.0  : : : Sex: F Service: MEDICINE Allergies: Sulf...   \n",
       "1  104471.0  : : : Sex: F Service: CARDIOTHORACIC Allergies...   \n",
       "2  157504.0  : : : Sex: M Service: NBB HISTORY OF PRESENT I...   \n",
       "3  157762.0  : : : Sex: F Service: NEONATOLOGY HISTORY: wee...   \n",
       "4  118769.0  : : : Sex: M Service: CARDIOTHORACIC Allergies...   \n",
       "\n",
       "            CATEGORY ICD9_CODE  \n",
       "0  Discharge summary     44023  \n",
       "1  Discharge summary      4240  \n",
       "2  Discharge summary      7746  \n",
       "3  Discharge summary     V3001  \n",
       "4  Discharge summary      3963  "
      ]
     },
     "execution_count": 9,
     "metadata": {},
     "output_type": "execute_result"
    }
   ],
   "source": [
    "train_df.head()"
   ]
  },
  {
   "cell_type": "code",
   "execution_count": 10,
   "metadata": {},
   "outputs": [
    {
     "data": {
      "text/plain": [
       "28105"
      ]
     },
     "execution_count": 10,
     "metadata": {},
     "output_type": "execute_result"
    }
   ],
   "source": [
    "# number of unique ids:\n",
    "\n",
    "len(train_df.HADM_ID.unique())"
   ]
  },
  {
   "cell_type": "code",
   "execution_count": 6,
   "metadata": {},
   "outputs": [
    {
     "data": {
      "text/plain": [
       "2107"
      ]
     },
     "execution_count": 6,
     "metadata": {},
     "output_type": "execute_result"
    }
   ],
   "source": [
    "# number of uniqu icd9 codes\n",
    "len(train_df.ICD9_CODE.unique())"
   ]
  },
  {
   "cell_type": "code",
   "execution_count": 3,
   "metadata": {},
   "outputs": [
    {
     "data": {
      "text/plain": [
       "['41401',\n",
       " '0389',\n",
       " '41071',\n",
       " 'V3001',\n",
       " '4241',\n",
       " '51881',\n",
       " 'V3000',\n",
       " 'V3101',\n",
       " '431',\n",
       " '4240',\n",
       " '486',\n",
       " '5070',\n",
       " '430',\n",
       " '4280',\n",
       " '41011',\n",
       " '41041',\n",
       " '5789',\n",
       " '5849',\n",
       " '1983',\n",
       " '5770',\n",
       " '99662',\n",
       " '99859',\n",
       " '43411',\n",
       " '42731',\n",
       " '03842',\n",
       " '56212',\n",
       " '43491',\n",
       " '4373',\n",
       " 'V3401',\n",
       " '51884',\n",
       " '5712',\n",
       " '4271',\n",
       " '85221',\n",
       " '42823',\n",
       " '03811',\n",
       " '03849',\n",
       " '41519',\n",
       " '4321',\n",
       " '4414',\n",
       " '0380',\n",
       " '53240',\n",
       " '99811',\n",
       " '1623',\n",
       " '3962',\n",
       " '5715',\n",
       " '43310',\n",
       " '042',\n",
       " '44101',\n",
       " '5761',\n",
       " '29181']"
      ]
     },
     "execution_count": 3,
     "metadata": {},
     "output_type": "execute_result"
    }
   ],
   "source": [
    "# just get top 50 for now\n",
    "\n",
    "top_50_icd9 = train_df['ICD9_CODE'].value_counts()[:50].index.tolist()\n",
    "top_50_icd9"
   ]
  },
  {
   "cell_type": "code",
   "execution_count": 24,
   "metadata": {},
   "outputs": [],
   "source": [
    "top_50_icd9 = train_df['ICD9_CODE'].value_counts()[:50].sort_index().index.tolist()"
   ]
  },
  {
   "cell_type": "code",
   "execution_count": 35,
   "metadata": {},
   "outputs": [
    {
     "data": {
      "text/plain": [
       "['0380',\n",
       " '03811',\n",
       " '03842',\n",
       " '03849',\n",
       " '0389',\n",
       " '042',\n",
       " '1623',\n",
       " '1983',\n",
       " '29181',\n",
       " '3962',\n",
       " '41011',\n",
       " '41041',\n",
       " '41071',\n",
       " '41401',\n",
       " '41519',\n",
       " '4240',\n",
       " '4241',\n",
       " '4271',\n",
       " '42731',\n",
       " '4280',\n",
       " '42823',\n",
       " '430',\n",
       " '431',\n",
       " '4321',\n",
       " '43310',\n",
       " '43411',\n",
       " '43491',\n",
       " '4373',\n",
       " '44101',\n",
       " '4414',\n",
       " '486',\n",
       " '5070',\n",
       " '51881',\n",
       " '51884',\n",
       " '53240',\n",
       " '56212',\n",
       " '5712',\n",
       " '5715',\n",
       " '5761',\n",
       " '5770',\n",
       " '5789',\n",
       " '5849',\n",
       " '85221',\n",
       " '99662',\n",
       " '99811',\n",
       " '99859',\n",
       " 'V3000',\n",
       " 'V3001',\n",
       " 'V3101',\n",
       " 'V3401']"
      ]
     },
     "execution_count": 35,
     "metadata": {},
     "output_type": "execute_result"
    }
   ],
   "source": [
    "top_50_icd9"
   ]
  },
  {
   "cell_type": "code",
   "execution_count": 34,
   "metadata": {},
   "outputs": [
    {
     "data": {
      "text/plain": [
       "['0380',\n",
       " '03811',\n",
       " '03842',\n",
       " '03849',\n",
       " '0389',\n",
       " '042',\n",
       " '1623',\n",
       " '1983',\n",
       " '29181',\n",
       " '3962',\n",
       " '41011',\n",
       " '41041',\n",
       " '41071',\n",
       " '41401',\n",
       " '41519',\n",
       " '4240',\n",
       " '4241',\n",
       " '4271',\n",
       " '42731',\n",
       " '4280',\n",
       " '42823',\n",
       " '430',\n",
       " '431',\n",
       " '4321',\n",
       " '43310',\n",
       " '43411',\n",
       " '43491',\n",
       " '4373',\n",
       " '44101',\n",
       " '4414',\n",
       " '486',\n",
       " '5070',\n",
       " '51881',\n",
       " '51884',\n",
       " '53240',\n",
       " '56212',\n",
       " '5712',\n",
       " '5715',\n",
       " '5761',\n",
       " '5770',\n",
       " '5789',\n",
       " '5849',\n",
       " '85221',\n",
       " '99662',\n",
       " '99811',\n",
       " '99859',\n",
       " 'V3000',\n",
       " 'V3001',\n",
       " 'V3101',\n",
       " 'V3401']"
      ]
     },
     "execution_count": 34,
     "metadata": {},
     "output_type": "execute_result"
    }
   ],
   "source": [
    "top_50_already = top_50_df['label'].value_counts()[:50].sort_index().index.tolist()\n",
    "top_50_already"
   ]
  },
  {
   "cell_type": "code",
   "execution_count": 13,
   "metadata": {},
   "outputs": [
    {
     "data": {
      "text/plain": [
       "<AxesSubplot:>"
      ]
     },
     "execution_count": 13,
     "metadata": {},
     "output_type": "execute_result"
    },
    {
     "data": {
      "image/png": "[encoded data removed]",
      "text/plain": [
       "<Figure size 864x576 with 1 Axes>"
      ]
     },
     "metadata": {
      "image/png": {
       "height": 496,
       "width": 722
      }
     },
     "output_type": "display_data"
    }
   ],
   "source": [
    "# do a lil plot\n",
    "top_50_df = train_df[train_df['ICD9_CODE'].isin(top_50_icd9)]\n",
    "top_50_df['ICD9_CODE'].value_counts().plot(kind = 'bar')"
   ]
  },
  {
   "cell_type": "code",
   "execution_count": 32,
   "metadata": {},
   "outputs": [
    {
     "name": "stdout",
     "output_type": "stream",
     "text": [
      "41401\n",
      "2118\n"
     ]
    }
   ],
   "source": [
    "top_50_list = top_50_df['ICD9_CODE'].value_counts()\n",
    "for code in top_50_list.keys():\n",
    "    print(code)\n",
    "    print(top_50_list[code])\n",
    "    \n",
    "    break"
   ]
  },
  {
   "cell_type": "code",
   "execution_count": 31,
   "metadata": {},
   "outputs": [
    {
     "data": {
      "text/plain": [
       "Index(['41401', '0389', '41071', 'V3001', '4241', '51881', 'V3000', 'V3101',\n",
       "       '431', '4240', '486', '5070', '430', '4280', '41011', '41041', '5789',\n",
       "       '5849', '1983', '5770', '99662', '99859', '43411', '42731', '03842',\n",
       "       '56212', '43491', '4373', 'V3401', '51884', '5712', '4271', '85221',\n",
       "       '42823', '03811', '03849', '41519', '4321', '4414', '0380', '53240',\n",
       "       '99811', '1623', '3962', '5715', '43310', '042', '44101', '29181',\n",
       "       '5761'],\n",
       "      dtype='object')"
      ]
     },
     "execution_count": 31,
     "metadata": {},
     "output_type": "execute_result"
    }
   ],
   "source": [
    "top_50_list.keys()"
   ]
  },
  {
   "cell_type": "code",
   "execution_count": 5,
   "metadata": {},
   "outputs": [],
   "source": [
    "# icd9 code lookup\n",
    "from icd9cms.icd9 import search"
   ]
  },
  {
   "cell_type": "code",
   "execution_count": 38,
   "metadata": {},
   "outputs": [],
   "source": [
    "# !pip install icd9cms"
   ]
  },
  {
   "cell_type": "code",
   "execution_count": 47,
   "metadata": {},
   "outputs": [],
   "source": [
    "from tqdm import tqdm\n",
    "def get_topN_icd9_descriptions(data_path, icd9_col = \"ICD9_CODE\",n=50, save_path = \"../data/intermediary-data/top_50_icd9/\"):\n",
    "    '''\n",
    "    Function to ingest the mimic dataset with icd9 diagnosis codes, select the top N occurences, obtain the natural language descriptions, and combine into a dataframe\n",
    "\n",
    "    returns: dataframe containing icd9_code, counts, and descriptions - unique per row\n",
    "    '''\n",
    "    train_df = pd.read_csv(f\"{data_path}\", index_col = None)\n",
    "    top_n_icd9 = train_df[icd9_col].value_counts()[:n].index.tolist()    \n",
    "    df = train_df[train_df[icd9_col].isin(top_50_icd9)]\n",
    "    icd9_value_counts = df[icd9_col].value_counts()\n",
    "    df['ICD9_CODE'].value_counts().plot(kind = 'bar')\n",
    "\n",
    "    combined_dicts = []\n",
    "    for code in tqdm(icd9_value_counts.keys()):       \n",
    "\n",
    "\n",
    "        # get icd9 description\n",
    "        icd9_description = (\",\").join(str(search(code)).split(\":\")[1:3])\n",
    "\n",
    "        \n",
    "        combined_dicts.append({\"icd9_code\":code,\"count\":icd9_value_counts[code], \"description\":icd9_description})\n",
    "        \n",
    "    # combine into a dataframe \n",
    "    final_df = pd.DataFrame(combined_dicts)\n",
    "\n",
    "    # save to file\n",
    "    if save_path is not None:\n",
    "        final_df.to_csv(f\"{save_path}\", index_col = None)\n",
    "    return final_df"
   ]
  },
  {
   "cell_type": "code",
   "execution_count": 48,
   "metadata": {},
   "outputs": [
    {
     "name": "stderr",
     "output_type": "stream",
     "text": [
      "  0%|          | 0/50 [00:00<?, ?it/s]"
     ]
    },
    {
     "name": "stdout",
     "output_type": "stream",
     "text": [
      "41401\n",
      "2118\n"
     ]
    },
    {
     "name": "stderr",
     "output_type": "stream",
     "text": [
      "\n"
     ]
    },
    {
     "data": {
      "text/html": [
       "<div>\n",
       "<style scoped>\n",
       "    .dataframe tbody tr th:only-of-type {\n",
       "        vertical-align: middle;\n",
       "    }\n",
       "\n",
       "    .dataframe tbody tr th {\n",
       "        vertical-align: top;\n",
       "    }\n",
       "\n",
       "    .dataframe thead th {\n",
       "        text-align: right;\n",
       "    }\n",
       "</style>\n",
       "<table border=\"1\" class=\"dataframe\">\n",
       "  <thead>\n",
       "    <tr style=\"text-align: right;\">\n",
       "      <th></th>\n",
       "      <th>icd9_code</th>\n",
       "      <th>count</th>\n",
       "      <th>description</th>\n",
       "    </tr>\n",
       "  </thead>\n",
       "  <tbody>\n",
       "    <tr>\n",
       "      <th>0</th>\n",
       "      <td>41401</td>\n",
       "      <td>2118</td>\n",
       "      <td>Crnry athrscl natve vssl,Coronary atherosclero...</td>\n",
       "    </tr>\n",
       "  </tbody>\n",
       "</table>\n",
       "</div>"
      ],
      "text/plain": [
       "  icd9_code  count                                        description\n",
       "0     41401   2118  Crnry athrscl natve vssl,Coronary atherosclero..."
      ]
     },
     "execution_count": 48,
     "metadata": {},
     "output_type": "execute_result"
    },
    {
     "data": {
      "image/png": "[encoded data removed]",
      "text/plain": [
       "<Figure size 864x576 with 1 Axes>"
      ]
     },
     "metadata": {
      "image/png": {
       "height": 496,
       "width": 722
      }
     },
     "output_type": "display_data"
    }
   ],
   "source": [
    "get_topN_icd9_descriptions(data_path=f\"{data_dir}/notes2diagnosis-icd-train.csv\")"
   ]
  },
  {
   "cell_type": "code",
   "execution_count": 26,
   "metadata": {},
   "outputs": [
    {
     "data": {
      "text/plain": [
       "['1623',\n",
       " 'Mal neo upper lobe lung',\n",
       " 'Malignant neoplasm of upper lobe, bronchus or lung']"
      ]
     },
     "execution_count": 26,
     "metadata": {},
     "output_type": "execute_result"
    }
   ],
   "source": [
    " [str(search(code)) for code in top_50_icd9][42].split(\":\")"
   ]
  },
  {
   "cell_type": "code",
   "execution_count": 44,
   "metadata": {},
   "outputs": [
    {
     "data": {
      "text/plain": [
       "'Crnry athrscl natve vssl,Coronary atherosclerosis of native coronary artery'"
      ]
     },
     "execution_count": 44,
     "metadata": {},
     "output_type": "execute_result"
    }
   ],
   "source": [
    "(\",\").join(str(search('41401')).split(\":\")[1:3])"
   ]
  },
  {
   "cell_type": "code",
   "execution_count": 33,
   "metadata": {},
   "outputs": [
    {
     "ename": "NameError",
     "evalue": "name 'get_icd9_descriptions' is not defined",
     "output_type": "error",
     "traceback": [
      "\u001b[1;31m---------------------------------------------------------------------------\u001b[0m",
      "\u001b[1;31mNameError\u001b[0m                                 Traceback (most recent call last)",
      "\u001b[1;32m~\\AppData\\Local\\Temp/ipykernel_11844/1070248466.py\u001b[0m in \u001b[0;36m<module>\u001b[1;34m\u001b[0m\n\u001b[1;32m----> 1\u001b[1;33m \u001b[0mget_icd9_descriptions\u001b[0m\u001b[1;33m(\u001b[0m\u001b[0mtop_50_icd9\u001b[0m\u001b[1;33m)\u001b[0m\u001b[1;33m\u001b[0m\u001b[1;33m\u001b[0m\u001b[0m\n\u001b[0m",
      "\u001b[1;31mNameError\u001b[0m: name 'get_icd9_descriptions' is not defined"
     ]
    }
   ],
   "source": [
    "get_icd9_descriptions(top_50_icd9)"
   ]
  },
  {
   "cell_type": "code",
   "execution_count": null,
   "metadata": {},
   "outputs": [],
   "source": [
    "\n"
   ]
  },
  {
   "cell_type": "markdown",
   "metadata": {},
   "source": [
    "# can check the raw icd9 data files below"
   ]
  },
  {
   "cell_type": "code",
   "execution_count": 18,
   "metadata": {},
   "outputs": [],
   "source": [
    "# raw icd 9 data\n",
    "raw_data_dir = \"/home/niallt/NLP_DPhil/DPhil_projects/mimic-icd9-classification/clinical-longformer/data/physionet.org/files/mimiciii/1.4/zipped_data/\"\n",
    "raw_icd9 = pd.read_csv(f\"{raw_data_dir}/DIAGNOSES_ICD.csv.gz\")"
   ]
  },
  {
   "cell_type": "code",
   "execution_count": 19,
   "metadata": {},
   "outputs": [
    {
     "data": {
      "text/html": [
       "<div>\n",
       "<style scoped>\n",
       "    .dataframe tbody tr th:only-of-type {\n",
       "        vertical-align: middle;\n",
       "    }\n",
       "\n",
       "    .dataframe tbody tr th {\n",
       "        vertical-align: top;\n",
       "    }\n",
       "\n",
       "    .dataframe thead th {\n",
       "        text-align: right;\n",
       "    }\n",
       "</style>\n",
       "<table border=\"1\" class=\"dataframe\">\n",
       "  <thead>\n",
       "    <tr style=\"text-align: right;\">\n",
       "      <th></th>\n",
       "      <th>ROW_ID</th>\n",
       "      <th>SUBJECT_ID</th>\n",
       "      <th>HADM_ID</th>\n",
       "      <th>SEQ_NUM</th>\n",
       "      <th>ICD9_CODE</th>\n",
       "    </tr>\n",
       "  </thead>\n",
       "  <tbody>\n",
       "    <tr>\n",
       "      <th>0</th>\n",
       "      <td>1297</td>\n",
       "      <td>109</td>\n",
       "      <td>172335</td>\n",
       "      <td>1.0</td>\n",
       "      <td>40301</td>\n",
       "    </tr>\n",
       "    <tr>\n",
       "      <th>1</th>\n",
       "      <td>1298</td>\n",
       "      <td>109</td>\n",
       "      <td>172335</td>\n",
       "      <td>2.0</td>\n",
       "      <td>486</td>\n",
       "    </tr>\n",
       "    <tr>\n",
       "      <th>2</th>\n",
       "      <td>1299</td>\n",
       "      <td>109</td>\n",
       "      <td>172335</td>\n",
       "      <td>3.0</td>\n",
       "      <td>58281</td>\n",
       "    </tr>\n",
       "    <tr>\n",
       "      <th>3</th>\n",
       "      <td>1300</td>\n",
       "      <td>109</td>\n",
       "      <td>172335</td>\n",
       "      <td>4.0</td>\n",
       "      <td>5855</td>\n",
       "    </tr>\n",
       "    <tr>\n",
       "      <th>4</th>\n",
       "      <td>1301</td>\n",
       "      <td>109</td>\n",
       "      <td>172335</td>\n",
       "      <td>5.0</td>\n",
       "      <td>4254</td>\n",
       "    </tr>\n",
       "    <tr>\n",
       "      <th>...</th>\n",
       "      <td>...</td>\n",
       "      <td>...</td>\n",
       "      <td>...</td>\n",
       "      <td>...</td>\n",
       "      <td>...</td>\n",
       "    </tr>\n",
       "    <tr>\n",
       "      <th>651042</th>\n",
       "      <td>639798</td>\n",
       "      <td>97503</td>\n",
       "      <td>188195</td>\n",
       "      <td>2.0</td>\n",
       "      <td>20280</td>\n",
       "    </tr>\n",
       "    <tr>\n",
       "      <th>651043</th>\n",
       "      <td>639799</td>\n",
       "      <td>97503</td>\n",
       "      <td>188195</td>\n",
       "      <td>3.0</td>\n",
       "      <td>V5869</td>\n",
       "    </tr>\n",
       "    <tr>\n",
       "      <th>651044</th>\n",
       "      <td>639800</td>\n",
       "      <td>97503</td>\n",
       "      <td>188195</td>\n",
       "      <td>4.0</td>\n",
       "      <td>V1279</td>\n",
       "    </tr>\n",
       "    <tr>\n",
       "      <th>651045</th>\n",
       "      <td>639801</td>\n",
       "      <td>97503</td>\n",
       "      <td>188195</td>\n",
       "      <td>5.0</td>\n",
       "      <td>5275</td>\n",
       "    </tr>\n",
       "    <tr>\n",
       "      <th>651046</th>\n",
       "      <td>639802</td>\n",
       "      <td>97503</td>\n",
       "      <td>188195</td>\n",
       "      <td>6.0</td>\n",
       "      <td>5569</td>\n",
       "    </tr>\n",
       "  </tbody>\n",
       "</table>\n",
       "<p>651047 rows × 5 columns</p>\n",
       "</div>"
      ],
      "text/plain": [
       "        ROW_ID  SUBJECT_ID  HADM_ID  SEQ_NUM ICD9_CODE\n",
       "0         1297         109   172335      1.0     40301\n",
       "1         1298         109   172335      2.0       486\n",
       "2         1299         109   172335      3.0     58281\n",
       "3         1300         109   172335      4.0      5855\n",
       "4         1301         109   172335      5.0      4254\n",
       "...        ...         ...      ...      ...       ...\n",
       "651042  639798       97503   188195      2.0     20280\n",
       "651043  639799       97503   188195      3.0     V5869\n",
       "651044  639800       97503   188195      4.0     V1279\n",
       "651045  639801       97503   188195      5.0      5275\n",
       "651046  639802       97503   188195      6.0      5569\n",
       "\n",
       "[651047 rows x 5 columns]"
      ]
     },
     "execution_count": 19,
     "metadata": {},
     "output_type": "execute_result"
    }
   ],
   "source": [
    "raw_icd9"
   ]
  },
  {
   "cell_type": "code",
   "execution_count": null,
   "metadata": {},
   "outputs": [],
   "source": []
  },
  {
   "cell_type": "markdown",
   "metadata": {},
   "source": [
    "## look at label encder"
   ]
  },
  {
   "cell_type": "code",
   "execution_count": 7,
   "metadata": {},
   "outputs": [],
   "source": [
    "# checking labels loaded from raw training and top50 subset produce same label encoder"
   ]
  },
  {
   "cell_type": "code",
   "execution_count": 25,
   "metadata": {},
   "outputs": [],
   "source": [
    "labels = LabelEncoder(top_50_icd9, \n",
    "                    reserved_labels=[])"
   ]
  },
  {
   "cell_type": "code",
   "execution_count": 26,
   "metadata": {},
   "outputs": [
    {
     "data": {
      "text/plain": [
       "'41401'"
      ]
     },
     "execution_count": 26,
     "metadata": {},
     "output_type": "execute_result"
    }
   ],
   "source": [
    "labels.index_to_token[13]"
   ]
  },
  {
   "cell_type": "code",
   "execution_count": null,
   "metadata": {},
   "outputs": [],
   "source": []
  },
  {
   "cell_type": "code",
   "execution_count": 27,
   "metadata": {},
   "outputs": [
    {
     "data": {
      "text/plain": [
       "13"
      ]
     },
     "execution_count": 27,
     "metadata": {},
     "output_type": "execute_result"
    }
   ],
   "source": [
    "labels.token_to_index['41401']"
   ]
  },
  {
   "cell_type": "code",
   "execution_count": 31,
   "metadata": {},
   "outputs": [
    {
     "data": {
      "text/plain": [
       "['0380',\n",
       " '03811',\n",
       " '03842',\n",
       " '03849',\n",
       " '0389',\n",
       " '042',\n",
       " '1623',\n",
       " '1983',\n",
       " '29181',\n",
       " '3962',\n",
       " '41011',\n",
       " '41041',\n",
       " '41071',\n",
       " '41401',\n",
       " '41519',\n",
       " '4240',\n",
       " '4241',\n",
       " '4271',\n",
       " '42731',\n",
       " '4280',\n",
       " '42823',\n",
       " '430',\n",
       " '431',\n",
       " '4321',\n",
       " '43310',\n",
       " '43411',\n",
       " '43491',\n",
       " '4373',\n",
       " '44101',\n",
       " '4414',\n",
       " '486',\n",
       " '5070',\n",
       " '51881',\n",
       " '51884',\n",
       " '53240',\n",
       " '56212',\n",
       " '5712',\n",
       " '5715',\n",
       " '5761',\n",
       " '5770',\n",
       " '5789',\n",
       " '5849',\n",
       " '85221',\n",
       " '99662',\n",
       " '99811',\n",
       " '99859',\n",
       " 'V3000',\n",
       " 'V3001',\n",
       " 'V3101',\n",
       " 'V3401']"
      ]
     },
     "execution_count": 31,
     "metadata": {},
     "output_type": "execute_result"
    }
   ],
   "source": [
    "labels.vocab"
   ]
  },
  {
   "cell_type": "code",
   "execution_count": 36,
   "metadata": {},
   "outputs": [],
   "source": [
    "labels_2 = LabelEncoder(top_50_already, \n",
    "                    reserved_labels=[])"
   ]
  },
  {
   "cell_type": "code",
   "execution_count": 37,
   "metadata": {},
   "outputs": [
    {
     "data": {
      "text/plain": [
       "'41401'"
      ]
     },
     "execution_count": 37,
     "metadata": {},
     "output_type": "execute_result"
    }
   ],
   "source": [
    "labels_2.index_to_token[13]"
   ]
  },
  {
   "cell_type": "code",
   "execution_count": 38,
   "metadata": {},
   "outputs": [
    {
     "data": {
      "text/plain": [
       "13"
      ]
     },
     "execution_count": 38,
     "metadata": {},
     "output_type": "execute_result"
    }
   ],
   "source": [
    "labels_2.token_to_index['41401']"
   ]
  },
  {
   "cell_type": "code",
   "execution_count": 40,
   "metadata": {},
   "outputs": [
    {
     "data": {
      "text/plain": [
       "True"
      ]
     },
     "execution_count": 40,
     "metadata": {},
     "output_type": "execute_result"
    }
   ],
   "source": [
    "labels_2.vocab == labels.vocab"
   ]
  },
  {
   "cell_type": "markdown",
   "metadata": {},
   "source": [
    "# Random spacy bits"
   ]
  },
  {
   "cell_type": "code",
   "execution_count": 30,
   "metadata": {},
   "outputs": [],
   "source": [
    "import pandas as pd\n",
    "from sklearn.feature_extraction.text import CountVectorizer, TfidfVectorizer\n",
    " \n",
    "sentence_1=\"spacy is cool but a bit of a pain spacy spacy\"\n",
    "# sentence_2=\"This is not good at all. We do not have any cheese here. Crocodiles are big\"\n",
    " \n",
    " \n",
    " \n"
   ]
  },
  {
   "cell_type": "code",
   "execution_count": null,
   "metadata": {},
   "outputs": [],
   "source": []
  },
  {
   "cell_type": "code",
   "execution_count": 38,
   "metadata": {},
   "outputs": [
    {
     "data": {
      "text/plain": [
       "['spacy', 'is', 'cool', 'but', 'a', 'bit', 'of', 'a', 'pain', 'spacy', 'spacy']"
      ]
     },
     "execution_count": 38,
     "metadata": {},
     "output_type": "execute_result"
    }
   ],
   "source": [
    "\n",
    "sentence_1_random = sentence_1.split(\" \")\n",
    "sentence_1_random"
   ]
  },
  {
   "cell_type": "code",
   "execution_count": 35,
   "metadata": {},
   "outputs": [],
   "source": [
    "random.shuffle(sentence_1_random)"
   ]
  },
  {
   "cell_type": "code",
   "execution_count": 36,
   "metadata": {},
   "outputs": [],
   "source": [
    "new_sentence = \" \".join(sentence_1_random)"
   ]
  },
  {
   "cell_type": "code",
   "execution_count": 39,
   "metadata": {},
   "outputs": [
    {
     "name": "stdout",
     "output_type": "stream",
     "text": [
      "   bit  but  cool  is  of  pain  spacy\n",
      "0    1    1     1   1   1     1      3\n",
      "1    1    1     1   1   1     1      3\n"
     ]
    },
    {
     "name": "stderr",
     "output_type": "stream",
     "text": [
      "C:\\Users\\ntaylor\\Anaconda3\\envs\\nlp\\lib\\site-packages\\sklearn\\utils\\deprecation.py:87: FutureWarning: Function get_feature_names is deprecated; get_feature_names is deprecated in 1.0 and will be removed in 1.2. Please use get_feature_names_out instead.\n",
      "  warnings.warn(msg, category=FutureWarning)\n"
     ]
    }
   ],
   "source": [
    "sentence_1=\"spacy is cool but a bit of a pain spacy spacy\"\n",
    "sentence_1_random = sentence_1.split(\" \")\n",
    "random.shuffle(sentence_1_random)\n",
    "new_sentence = \" \".join(sentence_1_random)\n",
    "\n",
    "CountVec = CountVectorizer(ngram_range=(1,1), # to use bigrams ngram_range=(2,2)\n",
    "                           )\n",
    "#transform\n",
    "Count_data = CountVec.fit_transform([sentence_1, new_sentence])\n",
    " \n",
    "#create dataframe\n",
    "cv_dataframe=pd.DataFrame(Count_data.toarray(),columns=CountVec.get_feature_names())\n",
    "print(cv_dataframe)"
   ]
  },
  {
   "cell_type": "code",
   "execution_count": 3,
   "metadata": {},
   "outputs": [
    {
     "name": "stdout",
     "output_type": "stream",
     "text": [
      "[0, 1, 1, 0, 0, 0, 1]\n",
      "[0 0 1 0 1 0 1]\n"
     ]
    }
   ],
   "source": [
    "ys = [0,1,1,0,0,0,1]\n",
    "y_changed = random.permutation(ys)\n",
    "print(ys)\n",
    "print(y_changed)"
   ]
  },
  {
   "cell_type": "code",
   "execution_count": 15,
   "metadata": {},
   "outputs": [
    {
     "data": {
      "text/html": [
       "<div>\n",
       "<style scoped>\n",
       "    .dataframe tbody tr th:only-of-type {\n",
       "        vertical-align: middle;\n",
       "    }\n",
       "\n",
       "    .dataframe tbody tr th {\n",
       "        vertical-align: top;\n",
       "    }\n",
       "\n",
       "    .dataframe thead th {\n",
       "        text-align: right;\n",
       "    }\n",
       "</style>\n",
       "<table border=\"1\" class=\"dataframe\">\n",
       "  <thead>\n",
       "    <tr style=\"text-align: right;\">\n",
       "      <th></th>\n",
       "      <th>y</th>\n",
       "      <th>x</th>\n",
       "    </tr>\n",
       "  </thead>\n",
       "  <tbody>\n",
       "    <tr>\n",
       "      <th>0</th>\n",
       "      <td>0</td>\n",
       "      <td>a</td>\n",
       "    </tr>\n",
       "    <tr>\n",
       "      <th>1</th>\n",
       "      <td>1</td>\n",
       "      <td>b</td>\n",
       "    </tr>\n",
       "    <tr>\n",
       "      <th>2</th>\n",
       "      <td>1</td>\n",
       "      <td>c</td>\n",
       "    </tr>\n",
       "    <tr>\n",
       "      <th>3</th>\n",
       "      <td>1</td>\n",
       "      <td>d</td>\n",
       "    </tr>\n",
       "    <tr>\n",
       "      <th>4</th>\n",
       "      <td>0</td>\n",
       "      <td>e</td>\n",
       "    </tr>\n",
       "  </tbody>\n",
       "</table>\n",
       "</div>"
      ],
      "text/plain": [
       "   y  x\n",
       "0  0  a\n",
       "1  1  b\n",
       "2  1  c\n",
       "3  1  d\n",
       "4  0  e"
      ]
     },
     "execution_count": 15,
     "metadata": {},
     "output_type": "execute_result"
    }
   ],
   "source": [
    "df = pd.DataFrame({\"y\":[0,1,1,1,0],\"x\":[\"a\",\"b\",\"c\",\"d\",\"e\"]})\n",
    "df"
   ]
  },
  {
   "cell_type": "code",
   "execution_count": 27,
   "metadata": {},
   "outputs": [
    {
     "data": {
      "text/html": [
       "<div>\n",
       "<style scoped>\n",
       "    .dataframe tbody tr th:only-of-type {\n",
       "        vertical-align: middle;\n",
       "    }\n",
       "\n",
       "    .dataframe tbody tr th {\n",
       "        vertical-align: top;\n",
       "    }\n",
       "\n",
       "    .dataframe thead th {\n",
       "        text-align: right;\n",
       "    }\n",
       "</style>\n",
       "<table border=\"1\" class=\"dataframe\">\n",
       "  <thead>\n",
       "    <tr style=\"text-align: right;\">\n",
       "      <th></th>\n",
       "      <th>y</th>\n",
       "      <th>x</th>\n",
       "    </tr>\n",
       "  </thead>\n",
       "  <tbody>\n",
       "    <tr>\n",
       "      <th>0</th>\n",
       "      <td>0</td>\n",
       "      <td>a</td>\n",
       "    </tr>\n",
       "    <tr>\n",
       "      <th>1</th>\n",
       "      <td>0</td>\n",
       "      <td>b</td>\n",
       "    </tr>\n",
       "    <tr>\n",
       "      <th>2</th>\n",
       "      <td>1</td>\n",
       "      <td>c</td>\n",
       "    </tr>\n",
       "    <tr>\n",
       "      <th>3</th>\n",
       "      <td>1</td>\n",
       "      <td>d</td>\n",
       "    </tr>\n",
       "    <tr>\n",
       "      <th>4</th>\n",
       "      <td>1</td>\n",
       "      <td>e</td>\n",
       "    </tr>\n",
       "  </tbody>\n",
       "</table>\n",
       "</div>"
      ],
      "text/plain": [
       "   y  x\n",
       "0  0  a\n",
       "1  0  b\n",
       "2  1  c\n",
       "3  1  d\n",
       "4  1  e"
      ]
     },
     "execution_count": 27,
     "metadata": {},
     "output_type": "execute_result"
    }
   ],
   "source": [
    "df2 = df.copy()\n",
    "df2[\"y\"] = np.random.permutation(df2[\"y\"])\n",
    "df2\n"
   ]
  },
  {
   "cell_type": "code",
   "execution_count": 31,
   "metadata": {},
   "outputs": [],
   "source": []
  },
  {
   "cell_type": "code",
   "execution_count": 38,
   "metadata": {},
   "outputs": [
    {
     "data": {
      "text/plain": [
       "WindowsPath('C:/Downloads/random/test')"
      ]
     },
     "execution_count": 38,
     "metadata": {},
     "output_type": "execute_result"
    }
   ],
   "source": []
  },
  {
   "cell_type": "code",
   "execution_count": null,
   "metadata": {},
   "outputs": [],
   "source": []
  }
 ],
 "metadata": {
  "interpreter": {
   "hash": "d1924dc1dd04b7e09b7d5eb58cba0f493e2fde5c6da36fb26502589a8e5856a6"
  },
  "kernelspec": {
   "display_name": "Python 3",
   "language": "python",
   "name": "python3"
  },
  "language_info": {
   "codemirror_mode": {
    "name": "ipython",
    "version": 3
   },
   "file_extension": ".py",
   "mimetype": "text/x-python",
   "name": "python",
   "nbconvert_exporter": "python",
   "pygments_lexer": "ipython3",
   "version": "3.6.9"
  }
 },
 "nbformat": 4,
 "nbformat_minor": 2
}
