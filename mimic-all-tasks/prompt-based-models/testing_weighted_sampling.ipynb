{
 "cells": [
  {
   "cell_type": "code",
   "execution_count": 11,
   "id": "450b8efc",
   "metadata": {},
   "outputs": [],
   "source": [
    "import numpy as np\n",
    "import pandas as pd\n",
    "import seaborn as sns\n",
    "from tqdm.notebook import tqdm\n",
    "import matplotlib.pyplot as plt\n",
    "import torch\n",
    "import torch.nn as nn\n",
    "import torch.optim as optim\n",
    "import torch.nn.functional as F\n",
    "\n",
    "from torch.utils.data import Dataset, DataLoader, random_split, SubsetRandomSampler, WeightedRandomSampler\n",
    "\n",
    "from sklearn.model_selection import train_test_split\n",
    "from collections import Counter"
   ]
  },
  {
   "cell_type": "code",
   "execution_count": 6,
   "id": "6f507c17",
   "metadata": {},
   "outputs": [],
   "source": [
    "\n",
    "\n",
    "numSample=1000\n",
    "batch_size=100\n",
    "\n",
    "sample=torch.FloatTensor(numSample,10)\n",
    "\n",
    "\n",
    "zero=np.zeros(int(numSample * 0.8),dtype=np.int32)\n",
    "one=np.ones(int(numSample * 0.2),dtype=np.int32)\n",
    "\n",
    "target=np.hstack((zero,one))\n",
    "\n",
    "dataset=sample.numpy()\n",
    "\n",
    "#split dataset into tran and test set\n",
    "\n",
    "\n",
    "x_train,x_test,y_train,y_test= train_test_split(dataset,\n",
    "                                                target,\n",
    "                                                test_size=0.25,\n",
    "                                                random_state=42,\n",
    "                                                stratify=target,\n",
    "                                                shuffle=True)"
   ]
  },
  {
   "cell_type": "code",
   "execution_count": 8,
   "id": "49199b0c",
   "metadata": {},
   "outputs": [
    {
     "data": {
      "text/plain": [
       "(750, 10)"
      ]
     },
     "execution_count": 8,
     "metadata": {},
     "output_type": "execute_result"
    }
   ],
   "source": [
    "x_train.shape"
   ]
  },
  {
   "cell_type": "code",
   "execution_count": 9,
   "id": "c5ee2195",
   "metadata": {},
   "outputs": [
    {
     "data": {
      "text/plain": [
       "(1000, 10)"
      ]
     },
     "execution_count": 9,
     "metadata": {},
     "output_type": "execute_result"
    }
   ],
   "source": [
    "dataset.shape\n"
   ]
  },
  {
   "cell_type": "code",
   "execution_count": 13,
   "id": "804521e8",
   "metadata": {},
   "outputs": [
    {
     "data": {
      "text/plain": [
       "(750,)"
      ]
     },
     "execution_count": 13,
     "metadata": {},
     "output_type": "execute_result"
    }
   ],
   "source": [
    "y_train.shape"
   ]
  },
  {
   "cell_type": "code",
   "execution_count": 12,
   "id": "6905b1c0",
   "metadata": {},
   "outputs": [
    {
     "name": "stdout",
     "output_type": "stream",
     "text": [
      "[0.00166667 0.00666667]\n"
     ]
    }
   ],
   "source": [
    "count=Counter(y_train)\n",
    "\n",
    "class_count=np.array([count[0],count[1]])\n",
    "\n",
    "weight=1./class_count\n",
    "\n",
    "print(weight)"
   ]
  },
  {
   "cell_type": "code",
   "execution_count": 14,
   "id": "deda2386",
   "metadata": {},
   "outputs": [
    {
     "data": {
      "text/plain": [
       "array([600, 150])"
      ]
     },
     "execution_count": 14,
     "metadata": {},
     "output_type": "execute_result"
    }
   ],
   "source": [
    "class_count"
   ]
  },
  {
   "cell_type": "code",
   "execution_count": 16,
   "id": "71bcf86f",
   "metadata": {},
   "outputs": [],
   "source": [
    "samples_weight = np.array([weight[t] for t in y_train])\n",
    "samples_weight=torch.from_numpy(samples_weight)"
   ]
  },
  {
   "cell_type": "code",
   "execution_count": 18,
   "id": "4da48c17",
   "metadata": {},
   "outputs": [
    {
     "data": {
      "text/plain": [
       "torch.Size([750])"
      ]
     },
     "execution_count": 18,
     "metadata": {},
     "output_type": "execute_result"
    }
   ],
   "source": [
    "samples_weight.shape"
   ]
  },
  {
   "cell_type": "code",
   "execution_count": 20,
   "id": "f985be29",
   "metadata": {},
   "outputs": [],
   "source": [
    "sampler = WeightedRandomSampler(samples_weight, len(samples_weight))"
   ]
  },
  {
   "cell_type": "code",
   "execution_count": 21,
   "id": "2c8345d5",
   "metadata": {},
   "outputs": [],
   "source": [
    "trainDataset = torch.utils.data.TensorDataset(torch.FloatTensor(x_train), torch.LongTensor(y_train.astype(int)))\n",
    "validDataset = torch.utils.data.TensorDataset(torch.FloatTensor(x_test), torch.LongTensor(y_test.astype(int)))\n",
    "\n",
    "\n",
    "trainLoader = torch.utils.data.DataLoader(dataset = trainDataset, batch_size=batch_size, num_workers=1, sampler = sampler)\n",
    "testLoader = torch.utils.data.DataLoader(dataset = validDataset, batch_size=batch_size, shuffle=False, num_workers=1)"
   ]
  },
  {
   "cell_type": "code",
   "execution_count": 22,
   "id": "9999956c",
   "metadata": {},
   "outputs": [
    {
     "name": "stdout",
     "output_type": "stream",
     "text": [
      "batch:0, 0/1 : 51 / 49\n",
      "batch:1, 0/1 : 55 / 45\n",
      "batch:2, 0/1 : 46 / 54\n",
      "batch:3, 0/1 : 54 / 46\n",
      "batch:4, 0/1 : 55 / 45\n",
      "batch:5, 0/1 : 44 / 56\n",
      "batch:6, 0/1 : 47 / 53\n",
      "batch:7, 0/1 : 22 / 28\n"
     ]
    }
   ],
   "source": [
    "for i, (data,target) in enumerate(trainLoader):\n",
    "    count = Counter(target.numpy())\n",
    "    print(f\"batch:{i}, 0/1 : {count[0]} / {count[1]}\")"
   ]
  },
  {
   "cell_type": "code",
   "execution_count": 23,
   "id": "0dfbd6d9",
   "metadata": {},
   "outputs": [],
   "source": [
    "# now test with our dataset"
   ]
  },
  {
   "cell_type": "code",
   "execution_count": 24,
   "id": "cbc22542",
   "metadata": {},
   "outputs": [],
   "source": [
    "from openprompt.data_utils import PROCESSORS\n",
    "import torch\n",
    "from openprompt.data_utils.utils import InputExample"
   ]
  },
  {
   "cell_type": "code",
   "execution_count": null,
   "id": "49ef99d3",
   "metadata": {},
   "outputs": [],
   "source": []
  }
 ],
 "metadata": {
  "kernelspec": {
   "display_name": "3-7-NLP",
   "language": "python",
   "name": "3-7-nlp"
  },
  "language_info": {
   "codemirror_mode": {
    "name": "ipython",
    "version": 3
   },
   "file_extension": ".py",
   "mimetype": "text/x-python",
   "name": "python",
   "nbconvert_exporter": "python",
   "pygments_lexer": "ipython3",
   "version": "3.7.5"
  }
 },
 "nbformat": 4,
 "nbformat_minor": 5
}
