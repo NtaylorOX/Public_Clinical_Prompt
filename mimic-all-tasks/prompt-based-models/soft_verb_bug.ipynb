{
 "cells": [
  {
   "cell_type": "code",
   "execution_count": 1,
   "metadata": {},
   "outputs": [],
   "source": [
    "from openprompt.data_utils import InputExample\n",
    "classes = [ # There are two classes in Sentiment Analysis, one for negative and one for positive\n",
    "    \"negative\",\n",
    "    \"positive\"\n",
    "]\n",
    "dataset = [ # For simplicity, there's only two examples\n",
    "    # text_a is the input text of the data, some other datasets may have multiple input sentences in one example.\n",
    "    InputExample(\n",
    "        guid = 0,\n",
    "        text_a = \"Albert Einstein was one of the greatest intellects of his time.\",\n",
    "    ),\n",
    "    InputExample(\n",
    "        guid = 1,\n",
    "        text_a = \"The film was badly made.\",\n",
    "    ),\n",
    "]"
   ]
  },
  {
   "cell_type": "code",
   "execution_count": 2,
   "metadata": {},
   "outputs": [
    {
     "name": "stderr",
     "output_type": "stream",
     "text": [
      "Some weights of the model checkpoint at bert-base-cased were not used when initializing BertForMaskedLM: ['cls.seq_relationship.bias', 'cls.seq_relationship.weight']\n",
      "- This IS expected if you are initializing BertForMaskedLM from the checkpoint of a model trained on another task or with another architecture (e.g. initializing a BertForSequenceClassification model from a BertForPreTraining model).\n",
      "- This IS NOT expected if you are initializing BertForMaskedLM from the checkpoint of a model that you expect to be exactly identical (initializing a BertForSequenceClassification model from a BertForSequenceClassification model).\n"
     ]
    }
   ],
   "source": [
    "from openprompt.plms import load_plm\n",
    "plm, tokenizer, model_config, WrapperClass = load_plm(\"bert\", \"bert-base-cased\")"
   ]
  },
  {
   "cell_type": "code",
   "execution_count": 3,
   "metadata": {},
   "outputs": [],
   "source": [
    "from openprompt.prompts import ManualTemplate, SoftVerbalizer\n",
    "promptTemplate = ManualTemplate(\n",
    "    text = '{\"placeholder\":\"text_a\"} It was {\"mask\"}',\n",
    "    tokenizer = tokenizer,\n",
    ")"
   ]
  },
  {
   "cell_type": "code",
   "execution_count": 4,
   "metadata": {},
   "outputs": [],
   "source": [
    "promptVerbalizer = SoftVerbalizer(tokenizer, plm, num_classes=2)"
   ]
  },
  {
   "cell_type": "code",
   "execution_count": 5,
   "metadata": {},
   "outputs": [],
   "source": [
    "freeze_verb_plm = True\n",
    "if freeze_verb_plm:\n",
    "    # now set the grouped_parameters_1 require grad to False\n",
    "    for param in promptVerbalizer.group_parameters_1:\n",
    "        param.requires_grad = False"
   ]
  },
  {
   "cell_type": "code",
   "execution_count": 6,
   "metadata": {},
   "outputs": [],
   "source": [
    "from openprompt import PromptForClassification\n",
    "\n",
    "# model with no freezing of the plm\n",
    "promptModel = PromptForClassification(\n",
    "    template = promptTemplate,\n",
    "    plm = plm,\n",
    "    verbalizer = promptVerbalizer,\n",
    "    freeze_plm = True\n",
    ")"
   ]
  },
  {
   "cell_type": "code",
   "execution_count": 7,
   "metadata": {},
   "outputs": [],
   "source": [
    "# check number of params that require_grad\n",
    "\n",
    "def get_n_trainable_params(model):    \n",
    "\n",
    "    \n",
    "    # all trainable\n",
    "    num_total_trainable = sum(p.numel() for p in model.parameters() if p.requires_grad)\n",
    "    \n",
    "    # split into the plm and classisifcation head\n",
    "    num_plm_trainable = sum(p.numel() for p in model.plm.parameters() if p.requires_grad)\n",
    "    \n",
    "    # template trainable\n",
    "    try:\n",
    "        num_template_trainable = sum(p.numel() for p in model.template.soft_embedding.parameters() if p.requires_grad)\n",
    "    except:\n",
    "        num_template_trainable = 0\n",
    "    \n",
    "    # verbalizer trainable \n",
    "    num_verbalizer_trainable = sum(p.numel() for p in model.verbalizer.parameters() if p.requires_grad)\n",
    "    \n",
    "    # assert sum of the two = total\n",
    "    assert num_plm_trainable+num_template_trainable+num_verbalizer_trainable == num_total_trainable\n",
    "    \n",
    "    print(f\"Number of trainable parameters of PLM: {num_plm_trainable}\\n\")\n",
    "    print('#'*50)\n",
    "    print(f\"Number of trainable parameters of template: {num_template_trainable}\\n\")\n",
    "    print('#'*50)\n",
    "    print(f\"Number of trainable parameters of verbalizer: {num_verbalizer_trainable}\\n\")\n",
    "    print('#'*50)\n",
    "    print(f\"Total number of trainable parameters of whole model: {num_total_trainable}\")\n",
    "\n",
    "    print(f\"Verbalizer grouped_parameters_1 require_grad: {model.verbalizer.group_parameters_1[0].requires_grad}\")"
   ]
  },
  {
   "cell_type": "code",
   "execution_count": 8,
   "metadata": {},
   "outputs": [
    {
     "name": "stdout",
     "output_type": "stream",
     "text": [
      "Number of trainable parameters of PLM: 0\n",
      "\n",
      "##################################################\n",
      "Number of trainable parameters of template: 0\n",
      "\n",
      "##################################################\n",
      "Number of trainable parameters of verbalizer: 1536\n",
      "\n",
      "##################################################\n",
      "Total number of trainable parameters of whole model: 1536\n",
      "Verbalizer grouped_parameters_1 require_grad: False\n"
     ]
    }
   ],
   "source": [
    "\n",
    "get_n_trainable_params(promptModel)"
   ]
  },
  {
   "cell_type": "code",
   "execution_count": 9,
   "metadata": {},
   "outputs": [],
   "source": [
    "# now set the grouped_parameters_1 require grad to False\n",
    "for param in promptModel.verbalizer.group_parameters_1:\n",
    "    param.requires_grad = False"
   ]
  },
  {
   "cell_type": "code",
   "execution_count": 10,
   "metadata": {},
   "outputs": [
    {
     "name": "stdout",
     "output_type": "stream",
     "text": [
      "Number of trainable parameters of PLM: 0\n",
      "\n",
      "##################################################\n",
      "Number of trainable parameters of template: 0\n",
      "\n",
      "##################################################\n",
      "Number of trainable parameters of verbalizer: 1536\n",
      "\n",
      "##################################################\n",
      "Total number of trainable parameters of whole model: 1536\n",
      "Verbalizer grouped_parameters_1 require_grad: False\n"
     ]
    }
   ],
   "source": [
    "\n",
    "get_n_trainable_params(promptModel)"
   ]
  },
  {
   "cell_type": "code",
   "execution_count": 11,
   "metadata": {},
   "outputs": [
    {
     "name": "stdout",
     "output_type": "stream",
     "text": [
      "Number of trainable parameters of PLM: 0\n",
      "\n",
      "##################################################\n",
      "Number of trainable parameters of template: 0\n",
      "\n",
      "##################################################\n",
      "Number of trainable parameters of verbalizer: 1536\n",
      "\n",
      "##################################################\n",
      "Total number of trainable parameters of whole model: 1536\n",
      "Verbalizer grouped_parameters_1 require_grad: False\n"
     ]
    }
   ],
   "source": [
    "# at this point the plm has been frozen and the PromptForClassification has been instantiated and the PLM itself is now frozen\n",
    "# however the verbalizer had been instantiated prior to the freezing of the PLM. If you now instantiate a second model with that same frozen plm. The verbalizer also has \n",
    "# properly frozen PLM parameters as described in ?\n",
    "\n",
    "promptVerbalizer_2 = SoftVerbalizer(tokenizer, plm, num_classes=2)\n",
    "promptModel_2 = PromptForClassification(\n",
    "    template = promptTemplate,\n",
    "    plm = plm,\n",
    "    verbalizer = promptVerbalizer_2,\n",
    "    freeze_plm = True\n",
    ")\n",
    "\n",
    "get_n_trainable_params(promptModel_2)"
   ]
  },
  {
   "cell_type": "code",
   "execution_count": 12,
   "metadata": {},
   "outputs": [
    {
     "data": {
      "text/plain": [
       "True"
      ]
     },
     "execution_count": 12,
     "metadata": {},
     "output_type": "execute_result"
    }
   ],
   "source": [
    "promptModel_2.verbalizer.group_parameters_2[0].requires_grad"
   ]
  },
  {
   "cell_type": "code",
   "execution_count": 13,
   "metadata": {},
   "outputs": [
    {
     "data": {
      "text/plain": [
       "[Parameter containing:\n",
       " tensor([[ 0.0088,  0.0201,  0.0091,  ...,  0.0042, -0.0165,  0.0024],\n",
       "         [ 0.0237, -0.0224, -0.0142,  ...,  0.0080, -0.0297, -0.0175]],\n",
       "        requires_grad=True)]"
      ]
     },
     "execution_count": 13,
     "metadata": {},
     "output_type": "execute_result"
    }
   ],
   "source": [
    "promptModel_2.verbalizer.group_parameters_2"
   ]
  },
  {
   "cell_type": "code",
   "execution_count": 14,
   "metadata": {},
   "outputs": [
    {
     "data": {
      "text/plain": [
       "SoftVerbalizer(\n",
       "  (head): BertOnlyMLMHead(\n",
       "    (predictions): BertLMPredictionHead(\n",
       "      (transform): BertPredictionHeadTransform(\n",
       "        (dense): Linear(in_features=768, out_features=768, bias=True)\n",
       "        (LayerNorm): LayerNorm((768,), eps=1e-12, elementwise_affine=True)\n",
       "      )\n",
       "      (decoder): Linear(in_features=768, out_features=2, bias=False)\n",
       "    )\n",
       "  )\n",
       ")"
      ]
     },
     "execution_count": 14,
     "metadata": {},
     "output_type": "execute_result"
    }
   ],
   "source": [
    "promptModel_2.verbalizer"
   ]
  },
  {
   "cell_type": "code",
   "execution_count": 16,
   "metadata": {},
   "outputs": [
    {
     "data": {
      "text/plain": [
       "BertOnlyMLMHead(\n",
       "  (predictions): BertLMPredictionHead(\n",
       "    (transform): BertPredictionHeadTransform(\n",
       "      (dense): Linear(in_features=768, out_features=768, bias=True)\n",
       "      (LayerNorm): LayerNorm((768,), eps=1e-12, elementwise_affine=True)\n",
       "    )\n",
       "    (decoder): Linear(in_features=768, out_features=28996, bias=True)\n",
       "  )\n",
       ")"
      ]
     },
     "execution_count": 16,
     "metadata": {},
     "output_type": "execute_result"
    }
   ],
   "source": [
    "plm.cls"
   ]
  }
 ],
 "metadata": {
  "kernelspec": {
   "display_name": "3-7-NLP",
   "language": "python",
   "name": "3-7-nlp"
  },
  "language_info": {
   "codemirror_mode": {
    "name": "ipython",
    "version": 3
   },
   "file_extension": ".py",
   "mimetype": "text/x-python",
   "name": "python",
   "nbconvert_exporter": "python",
   "pygments_lexer": "ipython3",
   "version": "3.7.5"
  },
  "orig_nbformat": 4
 },
 "nbformat": 4,
 "nbformat_minor": 2
}
