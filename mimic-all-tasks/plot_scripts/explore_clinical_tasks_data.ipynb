{
 "cells": [
  {
   "cell_type": "code",
   "execution_count": 36,
   "metadata": {},
   "outputs": [],
   "source": [
    "import pandas as pd\n",
    "import numpy as np\n",
    "from tqdm import tqdm\n",
    "import os\n",
    "import seaborn as sns\n",
    "import matplotlib.pyplot as plt\n",
    "import matplotlib.font_manager\n",
    "\n",
    "sns.set(font_scale=1.05)  \n",
    "plt.rcParams[\"figure.figsize\"] = [8, 6]\n",
    "plt.rcParams[\"figure.autolayout\"] = True\n",
    "sns.set_style(\"whitegrid\", {'axes.grid' : False})\n",
    "# plt.rcParams.update({'font.family':'Times New Roman'})\n",
    "# plt.rcParams.update({'font.family':'fantasy'})\n",
    "\n"
   ]
  },
  {
   "cell_type": "markdown",
   "metadata": {},
   "source": [
    "This notebook is for exploring the icd9 diagnosis codes data in Mimic-III and how we translated this into a ICD9 50 and Triage tasks."
   ]
  },
  {
   "cell_type": "markdown",
   "metadata": {},
   "source": [
    "## All icd9 codes \n",
    " look at all notes data and get counts of each etc"
   ]
  },
  {
   "cell_type": "code",
   "execution_count": 4,
   "metadata": {},
   "outputs": [],
   "source": [
    "# data directory\n",
    "data_dir = \"../mimic3-icd9-data/intermediary-data/\"\n"
   ]
  },
  {
   "cell_type": "code",
   "execution_count": 5,
   "metadata": {},
   "outputs": [],
   "source": [
    "# first lets check the creation of top n icd9 code datasets\n",
    "\n",
    "def get_topN_mimic_data(path, save_dir, modes = [\"train\",\"validate\",\"test\"],n_labels = -1):\n",
    "    \"\"\" Reads a comma separated value file.\n",
    "\n",
    "    :param path: path to a csv file.\n",
    "            save_dir: path to save filtered data\n",
    "            n_labels: number of top icd9 codes to subset - use -1 for all\n",
    "    \n",
    "    :return: List of records as dictionaries\n",
    "    \"\"\"\n",
    "\n",
    "    # we need training data first to get all codes\n",
    "    assert modes[0] is \"train\"\n",
    "    # can create a dataset to return\n",
    "    dataset = {}\n",
    "    #run through each provided data mode or set i.e. train/valid/test files   \n",
    "    for mode in tqdm(modes):    \n",
    "        # read in the processed training data with all icd9 codes \n",
    "        df = pd.read_csv(f\"{path}/notes2diagnosis-icd-{mode}.csv\")\n",
    "        df = df[[\"TEXT\", \"ICD9_CODE\"]]\n",
    "        \n",
    "        # get the top N codes based on frequency in train data\n",
    "        if mode == \"train\":\n",
    "                top_codes = df['ICD9_CODE'].value_counts()[:n_labels].index.tolist()         \n",
    "                print(f\"number of codes: {len(top_codes)}\")\n",
    "        # rename columns\n",
    "        df = df.rename(columns={'TEXT':'text', 'ICD9_CODE':'label'}) \n",
    "        # subset based on icd9 code being in top N\n",
    "        df = df[df['label'].isin(top_codes)]\n",
    "        df[\"text\"] = df[\"text\"].astype(str)\n",
    "        df[\"label\"] = df[\"label\"].astype(str)\n",
    "\n",
    "        \n",
    "        if save_dir is not None:    \n",
    "               \n",
    "            print(f\"Saving {mode} file at: {save_dir}/top_{n_labels}_icd9/{mode}.csv\")\n",
    "            if not os.path.exists(f\"{save_dir}/top_{n_labels}_icd9\"):\n",
    "                os.makedirs(f\"{save_dir}/top_{n_labels}_icd9\")\n",
    "\n",
    "            df.to_csv(f'{save_dir}/top_{n_labels}_icd9/{mode}.csv', index= None)\n",
    "        # assign to dataset\n",
    "        dataset[mode] = df\n",
    "    return dataset"
   ]
  },
  {
   "cell_type": "code",
   "execution_count": 6,
   "metadata": {},
   "outputs": [
    {
     "name": "stderr",
     "output_type": "stream",
     "text": [
      " 33%|███▎      | 1/3 [00:01<00:03,  1.75s/it]"
     ]
    },
    {
     "name": "stdout",
     "output_type": "stream",
     "text": [
      "number of codes: 2106\n"
     ]
    },
    {
     "name": "stderr",
     "output_type": "stream",
     "text": [
      "100%|██████████| 3/3 [00:02<00:00,  1.07it/s]\n"
     ]
    }
   ],
   "source": [
    "# we can see we get 2106 unique icd9 codes\n",
    "all_icd9_data = get_topN_mimic_data(path = data_dir, save_dir =None , n_labels=-1)"
   ]
  },
  {
   "cell_type": "code",
   "execution_count": 7,
   "metadata": {},
   "outputs": [],
   "source": [
    "# now we actually want to concatenate all of these to take a peak at all data\n",
    "concat_all_icd9_data = pd.concat(all_icd9_data.values(), ignore_index= True)"
   ]
  },
  {
   "cell_type": "code",
   "execution_count": 11,
   "metadata": {},
   "outputs": [
    {
     "data": {
      "text/html": [
       "<div>\n",
       "<style scoped>\n",
       "    .dataframe tbody tr th:only-of-type {\n",
       "        vertical-align: middle;\n",
       "    }\n",
       "\n",
       "    .dataframe tbody tr th {\n",
       "        vertical-align: top;\n",
       "    }\n",
       "\n",
       "    .dataframe thead th {\n",
       "        text-align: right;\n",
       "    }\n",
       "</style>\n",
       "<table border=\"1\" class=\"dataframe\">\n",
       "  <thead>\n",
       "    <tr style=\"text-align: right;\">\n",
       "      <th></th>\n",
       "      <th>text</th>\n",
       "      <th>label</th>\n",
       "    </tr>\n",
       "  </thead>\n",
       "  <tbody>\n",
       "    <tr>\n",
       "      <th>0</th>\n",
       "      <td>: : : Sex: F Service: MEDICINE Allergies: Sulf...</td>\n",
       "      <td>44023</td>\n",
       "    </tr>\n",
       "    <tr>\n",
       "      <th>1</th>\n",
       "      <td>: : : Sex: F Service: CARDIOTHORACIC Allergies...</td>\n",
       "      <td>4240</td>\n",
       "    </tr>\n",
       "    <tr>\n",
       "      <th>2</th>\n",
       "      <td>: : : Sex: M Service: NBB HISTORY OF PRESENT I...</td>\n",
       "      <td>7746</td>\n",
       "    </tr>\n",
       "    <tr>\n",
       "      <th>3</th>\n",
       "      <td>: : : Sex: F Service: NEONATOLOGY HISTORY: wee...</td>\n",
       "      <td>V3001</td>\n",
       "    </tr>\n",
       "    <tr>\n",
       "      <th>4</th>\n",
       "      <td>: : : Sex: M Service: CARDIOTHORACIC Allergies...</td>\n",
       "      <td>3963</td>\n",
       "    </tr>\n",
       "  </tbody>\n",
       "</table>\n",
       "</div>"
      ],
      "text/plain": [
       "                                                text  label\n",
       "0  : : : Sex: F Service: MEDICINE Allergies: Sulf...  44023\n",
       "1  : : : Sex: F Service: CARDIOTHORACIC Allergies...   4240\n",
       "2  : : : Sex: M Service: NBB HISTORY OF PRESENT I...   7746\n",
       "3  : : : Sex: F Service: NEONATOLOGY HISTORY: wee...  V3001\n",
       "4  : : : Sex: M Service: CARDIOTHORACIC Allergies...   3963"
      ]
     },
     "execution_count": 11,
     "metadata": {},
     "output_type": "execute_result"
    }
   ],
   "source": [
    "concat_all_icd9_data.head()"
   ]
  },
  {
   "cell_type": "code",
   "execution_count": 12,
   "metadata": {},
   "outputs": [
    {
     "data": {
      "text/plain": [
       "41401    3455\n",
       "0389     1748\n",
       "41071    1636\n",
       "V3001    1313\n",
       "4241     1133\n",
       "51881    1032\n",
       "V3000     890\n",
       "V3101     823\n",
       "431       765\n",
       "4240      558\n",
       "Name: label, dtype: int64"
      ]
     },
     "execution_count": 12,
     "metadata": {},
     "output_type": "execute_result"
    }
   ],
   "source": [
    "# look at top 10 label value counts\n",
    "concat_all_icd9_data.label.value_counts()[:10]"
   ]
  },
  {
   "cell_type": "code",
   "execution_count": 17,
   "metadata": {},
   "outputs": [],
   "source": [
    "# too many to plot really - as we can see\n",
    "\n",
    "# concat_all_icd9_data.label.value_counts().plot(kind=\"bar\")\n"
   ]
  },
  {
   "cell_type": "markdown",
   "metadata": {},
   "source": [
    "## ICD9 50"
   ]
  },
  {
   "cell_type": "markdown",
   "metadata": {},
   "source": [
    "# we can either use the function above or read in the already created top 50 data "
   ]
  },
  {
   "cell_type": "code",
   "execution_count": 8,
   "metadata": {},
   "outputs": [],
   "source": [
    "def get_all_icd9_50(data_dir, modes = [\"train\",\"valid\",\"test\"]):\n",
    "    dataset = {}\n",
    "    for mode in modes:\n",
    "        dataset[mode] = pd.read_csv(f\"{data_dir}/top_50_icd9/{mode}.csv\")\n",
    "    \n",
    "    # now we actually want to concatenate all of these to take a peak at all data\n",
    "    all_data = pd.concat(dataset.values(), ignore_index= True)\n",
    "\n",
    "    return all_data"
   ]
  },
  {
   "cell_type": "code",
   "execution_count": 9,
   "metadata": {},
   "outputs": [],
   "source": [
    "all_top50_data = get_all_icd9_50(data_dir)\n"
   ]
  },
  {
   "cell_type": "code",
   "execution_count": 38,
   "metadata": {},
   "outputs": [
    {
     "data": {
      "text/html": [
       "<div>\n",
       "<style scoped>\n",
       "    .dataframe tbody tr th:only-of-type {\n",
       "        vertical-align: middle;\n",
       "    }\n",
       "\n",
       "    .dataframe tbody tr th {\n",
       "        vertical-align: top;\n",
       "    }\n",
       "\n",
       "    .dataframe thead th {\n",
       "        text-align: right;\n",
       "    }\n",
       "</style>\n",
       "<table border=\"1\" class=\"dataframe\">\n",
       "  <thead>\n",
       "    <tr style=\"text-align: right;\">\n",
       "      <th></th>\n",
       "      <th>text</th>\n",
       "      <th>label</th>\n",
       "      <th>Unnamed: 0</th>\n",
       "    </tr>\n",
       "  </thead>\n",
       "  <tbody>\n",
       "    <tr>\n",
       "      <th>0</th>\n",
       "      <td>: : : Sex: F Service: CARDIOTHORACIC Allergies...</td>\n",
       "      <td>4240</td>\n",
       "      <td>NaN</td>\n",
       "    </tr>\n",
       "    <tr>\n",
       "      <th>1</th>\n",
       "      <td>: : : Sex: F Service: NEONATOLOGY HISTORY: wee...</td>\n",
       "      <td>V3001</td>\n",
       "      <td>NaN</td>\n",
       "    </tr>\n",
       "    <tr>\n",
       "      <th>2</th>\n",
       "      <td>: : : Sex: M Service: CARDIOTHORACIC Allergies...</td>\n",
       "      <td>41041</td>\n",
       "      <td>NaN</td>\n",
       "    </tr>\n",
       "    <tr>\n",
       "      <th>3</th>\n",
       "      <td>: : : Sex: F Service: MEDICINE Allergies: Peni...</td>\n",
       "      <td>51881</td>\n",
       "      <td>NaN</td>\n",
       "    </tr>\n",
       "    <tr>\n",
       "      <th>4</th>\n",
       "      <td>: : : Sex: F Service: CARDIOTHORACIC Allergies...</td>\n",
       "      <td>3962</td>\n",
       "      <td>NaN</td>\n",
       "    </tr>\n",
       "  </tbody>\n",
       "</table>\n",
       "</div>"
      ],
      "text/plain": [
       "                                                text  label  Unnamed: 0\n",
       "0  : : : Sex: F Service: CARDIOTHORACIC Allergies...   4240         NaN\n",
       "1  : : : Sex: F Service: NEONATOLOGY HISTORY: wee...  V3001         NaN\n",
       "2  : : : Sex: M Service: CARDIOTHORACIC Allergies...  41041         NaN\n",
       "3  : : : Sex: F Service: MEDICINE Allergies: Peni...  51881         NaN\n",
       "4  : : : Sex: F Service: CARDIOTHORACIC Allergies...   3962         NaN"
      ]
     },
     "execution_count": 38,
     "metadata": {},
     "output_type": "execute_result"
    }
   ],
   "source": [
    "all_top50_data.head()"
   ]
  },
  {
   "cell_type": "code",
   "execution_count": 42,
   "metadata": {},
   "outputs": [
    {
     "data": {
      "text/plain": [
       "0.5145679332555224"
      ]
     },
     "execution_count": 42,
     "metadata": {},
     "output_type": "execute_result"
    }
   ],
   "source": [
    "# now we can calculate percentage of the all data made up by the top 50 diagnosis codes\n",
    "\n",
    "all_top50_data.shape[0]/concat_all_icd9_data.shape[0]"
   ]
  },
  {
   "cell_type": "code",
   "execution_count": null,
   "metadata": {},
   "outputs": [],
   "source": [
    "\n"
   ]
  },
  {
   "cell_type": "code",
   "execution_count": 10,
   "metadata": {},
   "outputs": [
    {
     "data": {
      "image/png": "[encoded data removed]",
      "text/plain": [
       "<Figure size 576x432 with 1 Axes>"
      ]
     },
     "metadata": {
      "needs_background": "light"
     },
     "output_type": "display_data"
    }
   ],
   "source": [
    "sns.countplot(x =\"label\", data = all_top50_data, order = all_top50_data.label.value_counts().index)\n",
    "\n",
    "plt.xticks(rotation=70);\n",
    "plt.savefig(\"./results/figures/icd9_top50_counts.pdf\")"
   ]
  },
  {
   "cell_type": "markdown",
   "metadata": {},
   "source": [
    "## Triage task"
   ]
  },
  {
   "cell_type": "code",
   "execution_count": 11,
   "metadata": {},
   "outputs": [],
   "source": [
    "# set data_dir\n",
    "# load in the icd9 triage groupings for the top 20 icd9 codes\n",
    "\n",
    "icd9_grouped = pd.read_csv(f\"{data_dir}/triage/top_20_icd9_w_counts_descriptions_grouped.csv\", index_col=None)\n",
    "\n"
   ]
  },
  {
   "cell_type": "code",
   "execution_count": 20,
   "metadata": {},
   "outputs": [
    {
     "data": {
      "text/plain": [
       "(20, 4)"
      ]
     },
     "execution_count": 20,
     "metadata": {},
     "output_type": "execute_result"
    }
   ],
   "source": [
    "icd9_grouped.shape"
   ]
  },
  {
   "cell_type": "code",
   "execution_count": null,
   "metadata": {},
   "outputs": [],
   "source": [
    "icd9_grouped.groupby(\"Triage (post-icu) \")"
   ]
  },
  {
   "cell_type": "code",
   "execution_count": 12,
   "metadata": {},
   "outputs": [],
   "source": [
    "# Can load in our already formatted training data\n",
    "\n",
    "def get_formatted_triage_data(modes = [\"train\",\"validate\",\"test\"], data_dir = None):\n",
    "\n",
    "    '''\n",
    "    Function to read in and combined triage data to get frequencies of each group etc.\n",
    "\n",
    "    args: Data dir -> where is the data right now\n",
    "    '''\n",
    "\n",
    "    # empty list to fill with each df\n",
    "    dfs = [] \n",
    "\n",
    "    for mode in modes:\n",
    "\n",
    "        df = pd.read_csv(f\"{data_dir}/{mode}.csv\")\n",
    "\n",
    "        dfs.append(df)\n",
    "\n",
    "    return pd.concat(dfs)\n",
    "\n",
    " \n",
    "    "
   ]
  },
  {
   "cell_type": "code",
   "execution_count": 13,
   "metadata": {},
   "outputs": [],
   "source": [
    "triage_data = get_formatted_triage_data(data_dir = \"../mimic3-icd9-data/intermediary-data/triage/\")"
   ]
  },
  {
   "cell_type": "code",
   "execution_count": 23,
   "metadata": {},
   "outputs": [
    {
     "data": {
      "text/html": [
       "<div>\n",
       "<style scoped>\n",
       "    .dataframe tbody tr th:only-of-type {\n",
       "        vertical-align: middle;\n",
       "    }\n",
       "\n",
       "    .dataframe tbody tr th {\n",
       "        vertical-align: top;\n",
       "    }\n",
       "\n",
       "    .dataframe thead th {\n",
       "        text-align: right;\n",
       "    }\n",
       "</style>\n",
       "<table border=\"1\" class=\"dataframe\">\n",
       "  <thead>\n",
       "    <tr style=\"text-align: right;\">\n",
       "      <th></th>\n",
       "      <th>text</th>\n",
       "      <th>label</th>\n",
       "      <th>triage-category</th>\n",
       "    </tr>\n",
       "  </thead>\n",
       "  <tbody>\n",
       "    <tr>\n",
       "      <th>0</th>\n",
       "      <td>: : : Sex: F Service: CARDIOTHORACIC Allergies...</td>\n",
       "      <td>4240</td>\n",
       "      <td>Cardiology</td>\n",
       "    </tr>\n",
       "    <tr>\n",
       "      <th>1</th>\n",
       "      <td>: : : Sex: F Service: NEONATOLOGY HISTORY: wee...</td>\n",
       "      <td>V3001</td>\n",
       "      <td>Obstetrics</td>\n",
       "    </tr>\n",
       "    <tr>\n",
       "      <th>2</th>\n",
       "      <td>: : : Sex: M Service: CARDIOTHORACIC Allergies...</td>\n",
       "      <td>41041</td>\n",
       "      <td>Cardiology</td>\n",
       "    </tr>\n",
       "    <tr>\n",
       "      <th>3</th>\n",
       "      <td>: : : Sex: F Service: MEDICINE Allergies: Peni...</td>\n",
       "      <td>51881</td>\n",
       "      <td>Respiratory</td>\n",
       "    </tr>\n",
       "    <tr>\n",
       "      <th>4</th>\n",
       "      <td>: : : Sex: M Service: ADMISSION DIAGNOSIS: . S...</td>\n",
       "      <td>41401</td>\n",
       "      <td>Cardiology</td>\n",
       "    </tr>\n",
       "  </tbody>\n",
       "</table>\n",
       "</div>"
      ],
      "text/plain": [
       "                                                text  label triage-category\n",
       "0  : : : Sex: F Service: CARDIOTHORACIC Allergies...   4240      Cardiology\n",
       "1  : : : Sex: F Service: NEONATOLOGY HISTORY: wee...  V3001      Obstetrics\n",
       "2  : : : Sex: M Service: CARDIOTHORACIC Allergies...  41041      Cardiology\n",
       "3  : : : Sex: F Service: MEDICINE Allergies: Peni...  51881     Respiratory\n",
       "4  : : : Sex: M Service: ADMISSION DIAGNOSIS: . S...  41401      Cardiology"
      ]
     },
     "execution_count": 23,
     "metadata": {},
     "output_type": "execute_result"
    }
   ],
   "source": [
    "triage_data.head()"
   ]
  },
  {
   "cell_type": "code",
   "execution_count": 11,
   "metadata": {},
   "outputs": [
    {
     "data": {
      "text/plain": [
       "(15845, 3)"
      ]
     },
     "execution_count": 11,
     "metadata": {},
     "output_type": "execute_result"
    }
   ],
   "source": [
    "triage_data.shape"
   ]
  },
  {
   "cell_type": "code",
   "execution_count": 15,
   "metadata": {},
   "outputs": [
    {
     "data": {
      "image/png": "[encoded data removed]",
      "text/plain": [
       "<Figure size 576x432 with 1 Axes>"
      ]
     },
     "metadata": {
      "needs_background": "light"
     },
     "output_type": "display_data"
    }
   ],
   "source": [
    "# value counts plot\n",
    "# plt.figure(figsize=(10,8))\n",
    "\n",
    "sns.countplot(x =\"triage-category\", data = triage_data, order = triage_data['triage-category'].value_counts().index)\n",
    "\n",
    "plt.xticks(rotation=70);\n",
    "plt.tight_layout()\n",
    "plt.savefig(\"../plot_scripts/results/figures/triage_distribution.pdf\")"
   ]
  },
  {
   "cell_type": "markdown",
   "metadata": {},
   "source": [
    "## Now look at mortality and length of stay"
   ]
  },
  {
   "cell_type": "code",
   "execution_count": 14,
   "metadata": {},
   "outputs": [],
   "source": [
    "data_dir = \"../clinical-outcomes-data/mimic3-clinical-outcomes/\""
   ]
  },
  {
   "cell_type": "code",
   "execution_count": 15,
   "metadata": {},
   "outputs": [],
   "source": [
    "# quick function to concat all clinical outcomes data\n",
    "\n",
    "def combine_outcomes_data(data_dir, task = \"mp\", modes = [\"train\",\"valid\",\"test\"]):\n",
    "    \n",
    "    assert task is \"mp\" or task is \"los\"\n",
    "    dataset = {}\n",
    "    for mode in tqdm(modes):\n",
    "        dataset[mode] = pd.read_csv(f\"{data_dir}/{task}/{mode}.csv\")\n",
    "\n",
    "    # concat together\n",
    "    all_data = pd.concat(dataset.values(), ignore_index=True)\n",
    "\n",
    "    return all_data\n"
   ]
  },
  {
   "cell_type": "markdown",
   "metadata": {},
   "source": [
    "Mortality"
   ]
  },
  {
   "cell_type": "code",
   "execution_count": 16,
   "metadata": {},
   "outputs": [
    {
     "name": "stderr",
     "output_type": "stream",
     "text": [
      "100%|██████████| 3/3 [00:00<00:00,  3.67it/s]\n"
     ]
    }
   ],
   "source": [
    "# mortality\n",
    "mort_data = combine_outcomes_data(data_dir)"
   ]
  },
  {
   "cell_type": "code",
   "execution_count": 24,
   "metadata": {},
   "outputs": [
    {
     "data": {
      "text/html": [
       "<div>\n",
       "<style scoped>\n",
       "    .dataframe tbody tr th:only-of-type {\n",
       "        vertical-align: middle;\n",
       "    }\n",
       "\n",
       "    .dataframe tbody tr th {\n",
       "        vertical-align: top;\n",
       "    }\n",
       "\n",
       "    .dataframe thead th {\n",
       "        text-align: right;\n",
       "    }\n",
       "</style>\n",
       "<table border=\"1\" class=\"dataframe\">\n",
       "  <thead>\n",
       "    <tr style=\"text-align: right;\">\n",
       "      <th></th>\n",
       "      <th>id</th>\n",
       "      <th>text</th>\n",
       "      <th>hospital_expire_flag</th>\n",
       "    </tr>\n",
       "  </thead>\n",
       "  <tbody>\n",
       "    <tr>\n",
       "      <th>0</th>\n",
       "      <td>107384</td>\n",
       "      <td>CHIEF COMPLAINT: AMS, concern for toxic alcoho...</td>\n",
       "      <td>0</td>\n",
       "    </tr>\n",
       "    <tr>\n",
       "      <th>1</th>\n",
       "      <td>101061</td>\n",
       "      <td>CHIEF COMPLAINT: abdominal pain\\n\\nPRESENT ILL...</td>\n",
       "      <td>0</td>\n",
       "    </tr>\n",
       "    <tr>\n",
       "      <th>2</th>\n",
       "      <td>127180</td>\n",
       "      <td>CHIEF COMPLAINT: Bilateral Sub Dural Hematoma\\...</td>\n",
       "      <td>0</td>\n",
       "    </tr>\n",
       "    <tr>\n",
       "      <th>3</th>\n",
       "      <td>168339</td>\n",
       "      <td>CHIEF COMPLAINT: Intracranial bleed\\n\\nPRESENT...</td>\n",
       "      <td>0</td>\n",
       "    </tr>\n",
       "    <tr>\n",
       "      <th>4</th>\n",
       "      <td>154044</td>\n",
       "      <td>CHIEF COMPLAINT: ischemic left foot\\n\\nPRESENT...</td>\n",
       "      <td>0</td>\n",
       "    </tr>\n",
       "  </tbody>\n",
       "</table>\n",
       "</div>"
      ],
      "text/plain": [
       "       id                                               text  \\\n",
       "0  107384  CHIEF COMPLAINT: AMS, concern for toxic alcoho...   \n",
       "1  101061  CHIEF COMPLAINT: abdominal pain\\n\\nPRESENT ILL...   \n",
       "2  127180  CHIEF COMPLAINT: Bilateral Sub Dural Hematoma\\...   \n",
       "3  168339  CHIEF COMPLAINT: Intracranial bleed\\n\\nPRESENT...   \n",
       "4  154044  CHIEF COMPLAINT: ischemic left foot\\n\\nPRESENT...   \n",
       "\n",
       "   hospital_expire_flag  \n",
       "0                     0  \n",
       "1                     0  \n",
       "2                     0  \n",
       "3                     0  \n",
       "4                     0  "
      ]
     },
     "execution_count": 24,
     "metadata": {},
     "output_type": "execute_result"
    }
   ],
   "source": [
    "mort_data.head()"
   ]
  },
  {
   "cell_type": "code",
   "execution_count": 26,
   "metadata": {},
   "outputs": [
    {
     "data": {
      "image/png": "[encoded data removed]",
      "text/plain": [
       "<Figure size 576x432 with 1 Axes>"
      ]
     },
     "metadata": {
      "needs_background": "light"
     },
     "output_type": "display_data"
    }
   ],
   "source": [
    "sns.countplot(x =\"hospital_expire_flag\", data = mort_data, order = mort_data[\"hospital_expire_flag\"].value_counts().index)\n",
    "\n",
    "# plt.xticks(rotation=70);\n",
    "plt.tight_layout()\n",
    "plt.savefig(\"./results/figures/mortality_distribution.pdf\")"
   ]
  },
  {
   "cell_type": "markdown",
   "metadata": {},
   "source": [
    "Length of stay\n",
    "\n"
   ]
  },
  {
   "cell_type": "code",
   "execution_count": 17,
   "metadata": {},
   "outputs": [
    {
     "name": "stderr",
     "output_type": "stream",
     "text": [
      "100%|██████████| 3/3 [00:00<00:00,  3.90it/s]\n"
     ]
    }
   ],
   "source": [
    "los_data = combine_outcomes_data(data_dir, task = \"los\")"
   ]
  },
  {
   "cell_type": "code",
   "execution_count": 31,
   "metadata": {},
   "outputs": [
    {
     "data": {
      "text/html": [
       "<div>\n",
       "<style scoped>\n",
       "    .dataframe tbody tr th:only-of-type {\n",
       "        vertical-align: middle;\n",
       "    }\n",
       "\n",
       "    .dataframe tbody tr th {\n",
       "        vertical-align: top;\n",
       "    }\n",
       "\n",
       "    .dataframe thead th {\n",
       "        text-align: right;\n",
       "    }\n",
       "</style>\n",
       "<table border=\"1\" class=\"dataframe\">\n",
       "  <thead>\n",
       "    <tr style=\"text-align: right;\">\n",
       "      <th></th>\n",
       "      <th>id</th>\n",
       "      <th>text</th>\n",
       "      <th>los_label</th>\n",
       "    </tr>\n",
       "  </thead>\n",
       "  <tbody>\n",
       "    <tr>\n",
       "      <th>0</th>\n",
       "      <td>155297</td>\n",
       "      <td>CHIEF COMPLAINT: Decreased responsiveness  Maj...</td>\n",
       "      <td>0</td>\n",
       "    </tr>\n",
       "    <tr>\n",
       "      <th>1</th>\n",
       "      <td>168150</td>\n",
       "      <td>CHIEF COMPLAINT: Fatigue, wide complex tachyca...</td>\n",
       "      <td>1</td>\n",
       "    </tr>\n",
       "    <tr>\n",
       "      <th>2</th>\n",
       "      <td>154015</td>\n",
       "      <td>CHIEF COMPLAINT: preop CABG\\n\\nPRESENT ILLNESS...</td>\n",
       "      <td>2</td>\n",
       "    </tr>\n",
       "    <tr>\n",
       "      <th>3</th>\n",
       "      <td>145268</td>\n",
       "      <td>CHIEF COMPLAINT: \\n\\nPRESENT ILLNESS: This is ...</td>\n",
       "      <td>1</td>\n",
       "    </tr>\n",
       "    <tr>\n",
       "      <th>4</th>\n",
       "      <td>170521</td>\n",
       "      <td>CHIEF COMPLAINT: worsening shortness of breath...</td>\n",
       "      <td>2</td>\n",
       "    </tr>\n",
       "  </tbody>\n",
       "</table>\n",
       "</div>"
      ],
      "text/plain": [
       "       id                                               text  los_label\n",
       "0  155297  CHIEF COMPLAINT: Decreased responsiveness  Maj...          0\n",
       "1  168150  CHIEF COMPLAINT: Fatigue, wide complex tachyca...          1\n",
       "2  154015  CHIEF COMPLAINT: preop CABG\\n\\nPRESENT ILLNESS...          2\n",
       "3  145268  CHIEF COMPLAINT: \\n\\nPRESENT ILLNESS: This is ...          1\n",
       "4  170521  CHIEF COMPLAINT: worsening shortness of breath...          2"
      ]
     },
     "execution_count": 31,
     "metadata": {},
     "output_type": "execute_result"
    }
   ],
   "source": [
    "los_data.head()"
   ]
  },
  {
   "cell_type": "code",
   "execution_count": 32,
   "metadata": {},
   "outputs": [
    {
     "data": {
      "image/png": "[encoded data removed]",
      "text/plain": [
       "<Figure size 576x432 with 1 Axes>"
      ]
     },
     "metadata": {
      "needs_background": "light"
     },
     "output_type": "display_data"
    }
   ],
   "source": [
    "sns.countplot(x =\"los_label\", data = los_data, order = los_data[\"los_label\"].value_counts().index)\n",
    "\n",
    "# plt.xticks(rotation=70);\n",
    "plt.tight_layout()\n",
    "plt.savefig(\"./results/figures/los_distribution.pdf\")"
   ]
  },
  {
   "cell_type": "code",
   "execution_count": 38,
   "metadata": {},
   "outputs": [
    {
     "data": {
      "image/png": "[encoded data removed]",
      "text/plain": [
       "<Figure size 1152x720 with 4 Axes>"
      ]
     },
     "metadata": {},
     "output_type": "display_data"
    }
   ],
   "source": [
    "# all plots on one\n",
    "\n",
    "plt.rcParams[\"figure.figsize\"] = [16, 10]\n",
    "f, axes = plt.subplots(2, 2)\n",
    "\n",
    "# axes 0, 0 plot\n",
    "sns.countplot(x =\"label\", data = all_top50_data, order = all_top50_data.label.value_counts().index, ax = axes[0,0])\n",
    "axes[0,0].set_title(\"ICD9 50\")\n",
    "axes[0,0].tick_params(axis ='x', rotation = 90)\n",
    "plt.tight_layout()\n",
    "\n",
    "\n",
    "# axes 0, 1\n",
    "sns.countplot(x =\"triage-category\", data = triage_data, order = triage_data['triage-category'].value_counts().index, ax = axes[0,1])\n",
    "axes[0,1].set_title(\"ICD9 triage\")\n",
    "axes[0,1].tick_params(axis ='x', rotation = 70)\n",
    "plt.tight_layout()\n",
    "\n",
    "# axes 1, 0 \n",
    "sns.countplot(x =\"hospital_expire_flag\", data = mort_data, order = mort_data[\"hospital_expire_flag\"].value_counts().index, ax = axes[1,0])\n",
    "axes[1,0].set_title(\"Mortality\")\n",
    "plt.tight_layout()\n",
    "# axes 1, 1\n",
    "sns.countplot(x =\"los_label\", data = los_data, order = los_data[\"los_label\"].value_counts().index, ax = axes[1,1])\n",
    "axes[1,1].set_title(\"Length of stay\")\n",
    "plt.tight_layout()\n",
    "\n",
    "# save\n",
    "plt.savefig(f\"./results/figures/all_task_distributions.pdf\")"
   ]
  },
  {
   "cell_type": "code",
   "execution_count": null,
   "metadata": {},
   "outputs": [],
   "source": []
  }
 ],
 "metadata": {
  "kernelspec": {
   "display_name": "3-7-NLP",
   "language": "python",
   "name": "3-7-nlp"
  },
  "language_info": {
   "codemirror_mode": {
    "name": "ipython",
    "version": 3
   },
   "file_extension": ".py",
   "mimetype": "text/x-python",
   "name": "python",
   "nbconvert_exporter": "python",
   "pygments_lexer": "ipython3",
   "version": "3.7.5"
  },
  "orig_nbformat": 4
 },
 "nbformat": 4,
 "nbformat_minor": 2
}
