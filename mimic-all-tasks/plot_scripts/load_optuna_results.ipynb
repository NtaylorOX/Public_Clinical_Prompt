{
 "cells": [
  {
   "cell_type": "code",
   "execution_count": 2,
   "id": "2bdbdaa1",
   "metadata": {},
   "outputs": [],
   "source": [
    "import optuna\n",
    "import joblib\n",
    "import pandas as pd\n",
    "import numpy as np"
   ]
  },
  {
   "cell_type": "code",
   "execution_count": 3,
   "id": "09b72a66",
   "metadata": {},
   "outputs": [],
   "source": [
    "# first load the finetuned plm prompt model results\n",
    "prompt_finetuned_study = joblib.load(\"../prompt-based-models/hp-search/optuna_results/icd9_triage/emilyalsentzer/Bio_ClinicalBERT_tempmixed2_verbsoft0_fewshot_128/mimic_optuna_study.pkl\")"
   ]
  },
  {
   "cell_type": "code",
   "execution_count": 4,
   "id": "0350ea40",
   "metadata": {},
   "outputs": [
    {
     "data": {
      "text/plain": [
       "FrozenTrial(number=28, values=[0.8920941558441559], datetime_start=datetime.datetime(2022, 4, 4, 15, 21, 29, 248388), datetime_complete=datetime.datetime(2022, 4, 4, 15, 34, 25, 285155), params={'plm_lr': 6.0448325525899864e-05, 'prompt_lr': 9.298913086197198e-05, 'gradient_accum_steps': 5, 'dropout': 0.2600071167627545, 'optimizer': 'adamw'}, distributions={'plm_lr': LogUniformDistribution(high=0.1, low=1e-05), 'prompt_lr': LogUniformDistribution(high=0.3, low=1e-05), 'gradient_accum_steps': IntUniformDistribution(high=10, low=2, step=1), 'dropout': UniformDistribution(high=0.5, low=0.1), 'optimizer': CategoricalDistribution(choices=('adamw', 'adafactor'))}, user_attrs={}, system_attrs={}, intermediate_values={0: 0.814825487012987, 1: 0.8747077922077923, 2: 0.8729180194805195, 3: 0.8828368506493506, 4: 0.8643168290043289, 5: 0.891968344155844, 6: 0.8760159632034632, 7: 0.8920941558441559, 8: 0.8869751082251083, 9: 0.848037067099567}, trial_id=28, state=TrialState.COMPLETE, value=None)"
      ]
     },
     "execution_count": 4,
     "metadata": {},
     "output_type": "execute_result"
    }
   ],
   "source": [
    "prompt_finetuned_study.best_trial"
   ]
  },
  {
   "cell_type": "code",
   "execution_count": 5,
   "id": "11748ec0",
   "metadata": {},
   "outputs": [],
   "source": [
    "# prompt_finetuned_study.trials"
   ]
  },
  {
   "cell_type": "code",
   "execution_count": 5,
   "id": "dec9fbeb",
   "metadata": {},
   "outputs": [],
   "source": [
    "# now the frozen prompt models \n",
    "prompt_frozen_study = joblib.load(\"../prompt-based-models/hp-search/optuna_results/icd9_triage/frozen_plm/emilyalsentzer/Bio_ClinicalBERT_tempmixed2_verbsoft0_fewshot_128/mimic_optuna_study.pkl\")"
   ]
  },
  {
   "cell_type": "code",
   "execution_count": 6,
   "id": "c15f0b39",
   "metadata": {},
   "outputs": [
    {
     "data": {
      "text/plain": [
       "FrozenTrial(number=6, values=[0.8844832251082251], datetime_start=datetime.datetime(2022, 4, 4, 16, 41, 22, 997174), datetime_complete=datetime.datetime(2022, 4, 4, 16, 52, 25, 203586), params={'plm_lr': 0.007017760023969588, 'prompt_lr': 0.01212531355338061, 'gradient_accum_steps': 3, 'dropout': 0.15356683193252088, 'optimizer': 'adafactor'}, distributions={'plm_lr': LogUniformDistribution(high=0.1, low=1e-05), 'prompt_lr': LogUniformDistribution(high=0.3, low=1e-05), 'gradient_accum_steps': IntUniformDistribution(high=10, low=2, step=1), 'dropout': UniformDistribution(high=0.5, low=0.1), 'optimizer': CategoricalDistribution(choices=('adamw', 'adafactor'))}, user_attrs={}, system_attrs={}, intermediate_values={0: 0.5889001623376623, 1: 0.8165151515151515, 2: 0.7928639069264068, 3: 0.8451731601731601, 4: 0.8525027056277056, 5: 0.8542031926406927, 6: 0.8483752705627705, 7: 0.8378111471861472, 8: 0.8844832251082251, 9: 0.8494805194805195}, trial_id=6, state=TrialState.COMPLETE, value=None)"
      ]
     },
     "execution_count": 6,
     "metadata": {},
     "output_type": "execute_result"
    }
   ],
   "source": [
    "prompt_frozen_study.best_trial"
   ]
  },
  {
   "cell_type": "markdown",
   "id": "5307290f",
   "metadata": {},
   "source": [
    "# Now for the plm+classification_head\n"
   ]
  },
  {
   "cell_type": "code",
   "execution_count": 7,
   "id": "29261aca",
   "metadata": {},
   "outputs": [
    {
     "data": {
      "text/plain": [
       "FrozenTrial(number=14, values=[0.9155303030303031], datetime_start=datetime.datetime(2022, 4, 6, 17, 20, 6, 240519), datetime_complete=datetime.datetime(2022, 4, 6, 17, 31, 23, 325349), params={'plm_lr': 3.969852999838555e-05, 'classifier_lr': 0.0003019992907030036, 'gradient_accum_steps': 5, 'dropout': 0.3885234089777377, 'optimizer': 'adafactor'}, distributions={'plm_lr': LogUniformDistribution(high=0.1, low=1e-05), 'classifier_lr': LogUniformDistribution(high=0.3, low=1e-05), 'gradient_accum_steps': IntUniformDistribution(high=10, low=2, step=1), 'dropout': UniformDistribution(high=0.5, low=0.1), 'optimizer': CategoricalDistribution(choices=('adamw', 'adafactor'))}, user_attrs={}, system_attrs={}, intermediate_values={0: 0.25, 1: 0.8954518398268397, 2: 0.909228896103896, 3: 0.9152042748917749, 4: 0.9038392857142857, 5: 0.9138176406926407, 6: 0.9188108766233766, 7: 0.9089015151515152, 8: 0.9087094155844155, 9: 0.9155303030303031}, trial_id=14, state=TrialState.COMPLETE, value=None)"
      ]
     },
     "execution_count": 7,
     "metadata": {},
     "output_type": "execute_result"
    }
   ],
   "source": [
    "# finetuned\n",
    "\n",
    "classifier_finetuned_study = joblib.load(\"../pytorch-lightning-models/hp-search/optuna_results/icd9_triage/emilyalsentzer/Bio_ClinicalBERT/mimic_optuna_study.pkl\")\n",
    "classifier_finetuned_study.best_trial"
   ]
  },
  {
   "cell_type": "code",
   "execution_count": 8,
   "id": "6e25432a",
   "metadata": {},
   "outputs": [
    {
     "data": {
      "text/plain": [
       "FrozenTrial(number=46, values=[0.8203733766233766], datetime_start=datetime.datetime(2022, 4, 7, 2, 14, 50, 618418), datetime_complete=datetime.datetime(2022, 4, 7, 2, 20, 50, 532091), params={'plm_lr': 0.004757944126523874, 'classifier_lr': 0.0017385043869190418, 'gradient_accum_steps': 4, 'dropout': 0.38196314695463385, 'optimizer': 'adamw'}, distributions={'plm_lr': LogUniformDistribution(high=0.1, low=1e-05), 'classifier_lr': LogUniformDistribution(high=0.3, low=1e-05), 'gradient_accum_steps': IntUniformDistribution(high=10, low=2, step=1), 'dropout': UniformDistribution(high=0.5, low=0.1), 'optimizer': CategoricalDistribution(choices=('adamw', 'adafactor'))}, user_attrs={}, system_attrs={}, intermediate_values={0: 0.0, 1: 0.6024810606060607, 2: 0.7373417207792208, 3: 0.7453693181818182, 4: 0.7205045995670994, 5: 0.7908969155844155, 6: 0.7815570887445887, 7: 0.7517221320346321, 8: 0.7954572510822511, 9: 0.8203733766233766}, trial_id=46, state=TrialState.COMPLETE, value=None)"
      ]
     },
     "execution_count": 8,
     "metadata": {},
     "output_type": "execute_result"
    }
   ],
   "source": [
    "# frozen\n",
    "classifier_frozen_study = joblib.load(\"../pytorch-lightning-models/hp-search/optuna_results/icd9_triage/frozen_plm/emilyalsentzer/Bio_ClinicalBERT/mimic_optuna_study.pkl\")\n",
    "classifier_frozen_study.best_trial"
   ]
  }
 ],
 "metadata": {
  "kernelspec": {
   "display_name": "3-7-NLP",
   "language": "python",
   "name": "3-7-nlp"
  },
  "language_info": {
   "codemirror_mode": {
    "name": "ipython",
    "version": 3
   },
   "file_extension": ".py",
   "mimetype": "text/x-python",
   "name": "python",
   "nbconvert_exporter": "python",
   "pygments_lexer": "ipython3",
   "version": "3.7.5"
  }
 },
 "nbformat": 4,
 "nbformat_minor": 5
}
