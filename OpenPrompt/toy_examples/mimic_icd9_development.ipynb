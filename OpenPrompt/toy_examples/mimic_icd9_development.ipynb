{
 "cells": [
  {
   "cell_type": "code",
   "execution_count": 35,
   "id": "743cfe2e",
   "metadata": {},
   "outputs": [],
   "source": [
    "from openprompt.data_utils import InputExample\n",
    "import torch\n",
    "import pandas as pd\n",
    "import os\n",
    "import json, csv\n",
    "from abc import ABC, abstractmethod\n",
    "from collections import defaultdict, Counter\n",
    "from typing import List, Dict, Callable\n",
    "\n",
    "from openprompt.utils.logging import logger\n",
    "\n",
    "from openprompt.data_utils.utils import InputExample\n",
    "from openprompt.data_utils.data_processor import DataProcessor\n",
    "\n",
    "import pandas as pd\n",
    "import numpy as np\n",
    "\n",
    "from torchnlp.encoders import LabelEncoder"
   ]
  },
  {
   "cell_type": "code",
   "execution_count": null,
   "id": "3465e17d",
   "metadata": {},
   "outputs": [],
   "source": []
  },
  {
   "cell_type": "code",
   "execution_count": 6,
   "id": "7a545352",
   "metadata": {},
   "outputs": [],
   "source": [
    "# raw icd 9 data\n",
    "mimic_data_dir = \"/home/niallt/NLP_DPhil/DPhil_projects/mimic-icd9-classification/clinical-longformer/data/intermediary-data/\"\n",
    "mimic_data = pd.read_csv(f\"{mimic_data_dir}/notes2diagnosis-icd-train.csv_top_codes_filtered.csv\")"
   ]
  },
  {
   "cell_type": "code",
   "execution_count": 21,
   "id": "dc029cdd",
   "metadata": {},
   "outputs": [
    {
     "data": {
      "text/html": [
       "<div>\n",
       "<style scoped>\n",
       "    .dataframe tbody tr th:only-of-type {\n",
       "        vertical-align: middle;\n",
       "    }\n",
       "\n",
       "    .dataframe tbody tr th {\n",
       "        vertical-align: top;\n",
       "    }\n",
       "\n",
       "    .dataframe thead th {\n",
       "        text-align: right;\n",
       "    }\n",
       "</style>\n",
       "<table border=\"1\" class=\"dataframe\">\n",
       "  <thead>\n",
       "    <tr style=\"text-align: right;\">\n",
       "      <th></th>\n",
       "      <th>Unnamed: 0</th>\n",
       "      <th>text</th>\n",
       "      <th>label</th>\n",
       "    </tr>\n",
       "  </thead>\n",
       "  <tbody>\n",
       "    <tr>\n",
       "      <th>0</th>\n",
       "      <td>1</td>\n",
       "      <td>: : : Sex: F Service: CARDIOTHORACIC Allergies...</td>\n",
       "      <td>4240</td>\n",
       "    </tr>\n",
       "    <tr>\n",
       "      <th>1</th>\n",
       "      <td>3</td>\n",
       "      <td>: : : Sex: F Service: NEONATOLOGY HISTORY: wee...</td>\n",
       "      <td>V3001</td>\n",
       "    </tr>\n",
       "    <tr>\n",
       "      <th>2</th>\n",
       "      <td>6</td>\n",
       "      <td>: : : Sex: M Service: CARDIOTHORACIC Allergies...</td>\n",
       "      <td>41041</td>\n",
       "    </tr>\n",
       "    <tr>\n",
       "      <th>3</th>\n",
       "      <td>7</td>\n",
       "      <td>: : : Sex: F Service: MEDICINE Allergies: Peni...</td>\n",
       "      <td>51881</td>\n",
       "    </tr>\n",
       "    <tr>\n",
       "      <th>4</th>\n",
       "      <td>8</td>\n",
       "      <td>: : : Sex: F Service: CARDIOTHORACIC Allergies...</td>\n",
       "      <td>3962</td>\n",
       "    </tr>\n",
       "    <tr>\n",
       "      <th>...</th>\n",
       "      <td>...</td>\n",
       "      <td>...</td>\n",
       "      <td>...</td>\n",
       "    </tr>\n",
       "    <tr>\n",
       "      <th>14355</th>\n",
       "      <td>28100</td>\n",
       "      <td>: : Service: HISTORY OF THE PRESENT ILLNESS: M...</td>\n",
       "      <td>56212</td>\n",
       "    </tr>\n",
       "    <tr>\n",
       "      <th>14356</th>\n",
       "      <td>28101</td>\n",
       "      <td>: : : Sex: F Service: SURGERY Allergies: Patie...</td>\n",
       "      <td>99662</td>\n",
       "    </tr>\n",
       "    <tr>\n",
       "      <th>14357</th>\n",
       "      <td>28102</td>\n",
       "      <td>: : Service: CARDIOTHORACIC Allergies: Penicil...</td>\n",
       "      <td>41071</td>\n",
       "    </tr>\n",
       "    <tr>\n",
       "      <th>14358</th>\n",
       "      <td>28103</td>\n",
       "      <td>: : : Sex: M Service: Neonatology HISTORY OF P...</td>\n",
       "      <td>V3001</td>\n",
       "    </tr>\n",
       "    <tr>\n",
       "      <th>14359</th>\n",
       "      <td>28104</td>\n",
       "      <td>: : : Sex: M Service: CHIEF COMPLAINT: Inguina...</td>\n",
       "      <td>5715</td>\n",
       "    </tr>\n",
       "  </tbody>\n",
       "</table>\n",
       "<p>14360 rows × 3 columns</p>\n",
       "</div>"
      ],
      "text/plain": [
       "       Unnamed: 0                                               text  label\n",
       "0               1  : : : Sex: F Service: CARDIOTHORACIC Allergies...   4240\n",
       "1               3  : : : Sex: F Service: NEONATOLOGY HISTORY: wee...  V3001\n",
       "2               6  : : : Sex: M Service: CARDIOTHORACIC Allergies...  41041\n",
       "3               7  : : : Sex: F Service: MEDICINE Allergies: Peni...  51881\n",
       "4               8  : : : Sex: F Service: CARDIOTHORACIC Allergies...   3962\n",
       "...           ...                                                ...    ...\n",
       "14355       28100  : : Service: HISTORY OF THE PRESENT ILLNESS: M...  56212\n",
       "14356       28101  : : : Sex: F Service: SURGERY Allergies: Patie...  99662\n",
       "14357       28102  : : Service: CARDIOTHORACIC Allergies: Penicil...  41071\n",
       "14358       28103  : : : Sex: M Service: Neonatology HISTORY OF P...  V3001\n",
       "14359       28104  : : : Sex: M Service: CHIEF COMPLAINT: Inguina...   5715\n",
       "\n",
       "[14360 rows x 3 columns]"
      ]
     },
     "execution_count": 21,
     "metadata": {},
     "output_type": "execute_result"
    }
   ],
   "source": [
    "mimic_data"
   ]
  },
  {
   "cell_type": "code",
   "execution_count": 44,
   "id": "46b38a6b",
   "metadata": {},
   "outputs": [],
   "source": [
    "class MimicProcessor(DataProcessor):\n",
    "    # TODO Test needed\n",
    "    def __init__(self):\n",
    "        super().__init__()\n",
    "#         self.labels = [\"contradiction\", \"entailment\", \"neutral\"]\n",
    "        \n",
    "\n",
    "    def get_examples(self, data_dir):\n",
    "        path = data_dir\n",
    "        examples = []\n",
    "        df = pd.read_csv(path)\n",
    "        self.label_encoder = LabelEncoder(np.unique(df.label).tolist(), reserved_labels = [])\n",
    "        \n",
    "        for idx, row in df.iterrows():\n",
    "#             print(row)\n",
    "            _, body, label = row\n",
    "            label = self.label_encoder.encode(label)\n",
    "#             print(f\"body : {body}\")\n",
    "#             print(f\"label: {label}\")\n",
    "#             print(f\"labels original: {self.label_encoder.index_to_token[label]}\")\n",
    "            \n",
    "            text_a = body.replace('\\\\', ' ')\n",
    "\n",
    "            example = InputExample(\n",
    "                guid=str(idx), text_a=text_a, label=int(label)-1)\n",
    "            examples.append(example)\n",
    "            break\n",
    "                \n",
    "        return examples"
   ]
  },
  {
   "cell_type": "code",
   "execution_count": 45,
   "id": "ccfa80d5",
   "metadata": {},
   "outputs": [],
   "source": [
    "data = MimicProcessor().get_examples(data_dir = f\"{mimic_data_dir}/notes2diagnosis-icd-train.csv_top_codes_filtered.csv\")"
   ]
  },
  {
   "cell_type": "code",
   "execution_count": 46,
   "id": "197ede76",
   "metadata": {},
   "outputs": [
    {
     "data": {
      "text/plain": [
       "[{\n",
       "   \"guid\": \"0\",\n",
       "   \"label\": 14,\n",
       "   \"meta\": {},\n",
       "   \"text_a\": \": : : Sex: F Service: CARDIOTHORACIC Allergies: Patient recorded as having No Known Allergies to Drugs : Chief Complaint: SOB with exertion, heart murmur since y/o Major Surgical or Invasive Procedure: Mitral valve replacement(mm CE tissue History of Present Illness: y/o female with known MVP who was diagnosed with a heart murmur at age . She was evaluated with serial TTE's which showed worsening MR. Echo showed LVEF % with Mitral valve regurgitant fraction of %. She denies any symptoms. Past Medical History: Hyperlipidemia, MVP/MR, Depression, Obesity Social History: social Etoh, live with mother, deniesDA or tobacco use Family History: noncontributory Physical Exam: y/o F in bed NAD Neuro AA&Ox, nonfocal Chest CTAB resp unlab median sternotomy stable, c/d/i no d/c, RRR no m/r/g chest tubes and epicardial wires removed. Abd S/NT/ND/BS+ EXT warm with trace edema Pertinent Results: RADIOLOGY Preliminary Report CHEST (PA & LAT : AM CHEST (PA & LAT Reason: assess LLL atelectasis MEDICAL CONDITION: year old woman with fever atelectasis seen on prio film REASON FOR THIS EXAMINATION: assess LLL atelectasis INDICATION: Fever, atelectasis seen on prior film. COMPARISONS: . PA and lateral chest radiographs show stable cardiac and mediastinal silhouettes. Again seen are median sternotomy wires and prosthetic mitral valve. There has been interval improvement in the previously seen left retrocardiac opacity suggesting improving atelectasis. No focal opacities are seen. No pleural effusions are seen. IMPRESSION: Improved left retrocardiac opacity suggestive of improving atelectasis. DR. . DR. :AM BLOOD WBC-. RBC-.* Hgb-.* Hct-.* MCV-* MCH-. MCHC-.* RDW-. Plt Ct- :AM BLOOD PT-.* PTT-. INR(PT-. :AM BLOOD Glucose-* UreaN- Creat-. Na- K-. Cl- HCO- AnGap- :AM BLOOD Calcium-. Phos-. Mg-. :AM BLOOD Type-ART pO-* pCO- pH-. calHCO- BaseS- : BLOOD CULTURE AEROBIC BOTTLE (Pending: ANAEROBIC BOTTLE (Pending: Cardiology Report ECHO Study Date of *** Report not finalized *** PRELIMINARY REPORT PATIENT/TEST INFORMATION: Indication: Intra op for MVR Height: (in Weight (lb: BSA (m: . m Status: Inpatient : at : Test: TEE (Complete Doppler: Full Doppler and color Doppler Contrast: None Tape Number: AW-: Test Location: Anesthesia West OR cardiac Technical Quality: Adequate REFERRING DOCTOR: DR. MEASUREMENTS: Left Ventricle - Inferolateral Thickness: . cm (nl . - . cm Left Ventricle - Diastolic Dimension: . cm (nl <= . cm Left Ventricle - Ejection Fraction: % (nl >=% Aorta - Valve Level: . cm (nl <= . cm Aorta - Ascending: . cm (nl <= . cm INTERPRETATION: Findings: LEFT ATRIUM: Marked LA enlargement. RIGHT ATRIUM/INTERATRIAL SEPTUM: A catheter or pacing wire is seen in the RA and extending into the RV. Normal interatrial septum. Prominent Eustachian valve (normal variant. LEFT VENTRICLE: Wall thickness and cavity dimensions were obtained from D images. Normal LV wall thickness. Top normal/borderline dilated LV cavity size. Mild global LV hypokinesis. Mildly depressed LVEF. LV WALL MOTION: Regional LV wall motion abnormalities include: basal anterior - hypo; mid anterior - hypo; basal anteroseptal - hypo; mid anteroseptal - hypo; basal inferoseptal - hypo; mid inferoseptal - hypo; basal inferior - hypo; mid inferior - hypo; basal inferolateral - hypo; mid inferolateral - hypo; basal anterolateral - hypo; mid anterolateral - hypo; anterior apex - hypo; septal apex - hypo; inferior apex - hypo; lateral apex - hypo; apex - hypo; RIGHT VENTRICLE: Normal RV chamber size and free wall motion. AORTA: Normal ascending, transverse and descending thoracic aorta with no atherosclerotic plaque. Normal descending aorta diameter. AORTIC VALVE: ? aortic valve leaflets. Mildly thickened aortic valve leaflets. Mild (+ AR. MITRAL VALVE: Mildly thickened mitral valve leaflets. Myxomatous mitral valve leaflets. Moderate/severe MVP. Mild mitral annular calcification. No MS. Moderate (+ MR. Eccentric MR jet. TRICUSP VALVE: Normal tricuspid valve leaflets. Mild TR. PULMONIC VALVE/PULMONARY ARTERY: Normal pulmonic valve leaflets with physiologic PR. PERICARDIUM: Trivial/physiologic pericardial effusion. GENERAL COMMENTS: A TEE was performed in the location listed above. I certify I was present in compliance with HCFA regulations. No TEE related complications. The patient was under general anesthesia throughout the for the patient. Conclusions: Pre-CPB The left atrium is markedly dilated. Left ventricular wall thicknesses are normal. The left ventricular cavity size is top normal/borderline dilated. There is mild global left ventricular hypokinesis. Overall left ventricular systolic function is mildly depressed EF about %. . Right ventricular chamber size and free wall motion are normal. The ascending, transverse and descending thoracic aorta are small in diameter and free of atherosclerotic plaque. The number of aortic valve leaflets cannot be determined. The aortic valve leaflets are mildly thickened. Trace to mild (+ aortic regurgitation is seen. The mitral valve leaflets are mildly thickened. The mitral valve leaflets are myxomatous. There is moderate/severe posterior mitral valve leaflet prolapse. Mild anterior leaflet prolapse. Moderate (+ mitral regurgitation is seen. The mitral regurgitation jet is eccentric. There is a trivial/physiologic pericardial effusion. Post CPB Normal RV systolic function. LV with continued mild global hypokinesis, EF about %. Mitral bioprosthesis is well seated, normal leaflet function. There is trace valvular and perivalvular MR. . other changes from pre-CPB. Electronically signed by , on :. Cardiology Report ECG Study Date of :: PM Sinus tachycardia. Non-specific ST-T wave changes. Compared to the previous tracing of the rate has increased. Read by: , Intervals Axes Rate PR QRS QT/QTc P QRS T /. - Brief Hospital Course: Ms. was admitted to the on for further management of her dyspnea on exertion. She was taken to the catheterization lab where she was found to have no significant CAD, severe MVP and regurgitation with moderate pulmonary hypertension, LVEF %. Given the severity of her disease, the cardiac surgical service was consulted for surgical repair of her valve disease. She was worked-up in the usual preoperative manner including an echocardiogram which revealed trace Aortic insufficiency, + mitral regurgitation with myxomatous leaflets, and an LV ejection fraction of %, RVEF %, bilateral atrial enlargement. On , Ms. was taken to the operating room. She underwent a mitral valve replacement using a mm pericardial model bioprosthesis. Postoperatively she was taken to the cardiac surgical intensive care unit for monitoring. On postoperative day one, she awoke neurologically intact and was extubated. Beta blockade and aspirin were resumed. She was gently diuresed towards his preoperative weight. On POD Her pressors were weaned, chest tubes were removed, and she was transferred to the cardiac stepdown unit. Beta blockade and aspirin were resumed. She was gently diuresed towards his preoperative weight. On POD her epicardial wires were removed without incident. The physical therapy service was consulted to assist with her postoperative strength and mobility. Her oxygen saturations improved to % on room air. The physical therapy service was consulted to assist with her postoperative strength and mobility. On POD Ms. was kg above her preop weight with good exercise tolerance, no SOB, or Chest pain. Her blood pressure was stable. Her sternotomy incision was clean, dry, and intact without evidence of infection. She was discharged home on POD with services in good condition, cardiac diet, sternal precautions, and instructed to follow up with her PCP and cardiologist in weeks. She will follow up with Dr. in four weeks. Medications on Admission: Paxil mg qday Discharge Medications: . Furosemide mg Tablet Sig: One ( Tablet PO QH (every hours for days. Disp:* Tablet(s* Refills:** . Potassium Chloride mEq Packet Sig: One ( Packet PO QH (every hours for days. Disp:* Packet(s* Refills:** . Docusate Sodium mg Capsule Sig: One ( Capsule PO B ( times a day. Disp:* Capsule(s* Refills:** . Aspirin mg Tablet, Delayed Release (E.C. Sig: One ( Tablet, Delayed Release (E.C. PO DAILY (Daily. Disp:* Tablet, Delayed Release (E.C.(s* Refills:** . Oxycodone-Acetaminophen - mg Tablet Sig: - Tablets PO every - hours as needed for pain. Disp:* Tablet(s* Refills:** . Paroxetine HCl mg Tablet Sig: One ( Tablet PO DAILY (Daily. Disp:* Tablet(s* Refills:** . Amiodarone mg Tablet Sig: Two ( Tablet PO B ( times a day for days: When dose is finished, decrease dose to mg PO daily for days, then decrease dose to mg PO daily. Disp:* Tablet(s* Refills:** . : One ( Tablet PO B ( times a day. Disp:* Tablet(s* Refills:** . Ferrous Gluconate mg Tablet Sig: One ( Tablet PO DAILY (Daily. Disp:* Tablet(s* Refills:** . Ascorbic Acid mg Tablet Sig: One ( Tablet PO B ( times a day. Disp:* Tablet(s* Refills:** . : One ( Tablet PO QH (every hours for days. Disp:* Tablet(s* Refills:** . Ranitidine HCl mg Tablet Sig: One ( Tablet PO B ( times a day. Disp:* Tablet(s* Refills:** . Metoprolol Tartrate mg Tablet Sig: One ( Tablet PO B ( times a day. Disp:* Tablet(s* Refills:** Discharge Disposition: Home Discharge Diagnosis: Mitral regurgitation Discharge Condition: Good. Discharge Instructions: Follow medications on discharge instructions. You may not drive for weeks. You may not lift more than lbs. for months. You should shower daily, let water flow over wounds, pat dry with a towel. Do not use creams, lotions, or powders on wounds. Call our office for sternal drainage, temp.>. Followup Instructions: Make an appointment with Dr. for - weeks . Make an appointment with Dr. for weeks . Make an appointment with your cardiologist - weeks. :\",\n",
       "   \"text_b\": \"\",\n",
       "   \"tgt_text\": null\n",
       " }]"
      ]
     },
     "execution_count": 46,
     "metadata": {},
     "output_type": "execute_result"
    }
   ],
   "source": [
    "data"
   ]
  }
 ],
 "metadata": {
  "kernelspec": {
   "display_name": "Python 3",
   "language": "python",
   "name": "python3"
  },
  "language_info": {
   "codemirror_mode": {
    "name": "ipython",
    "version": 3
   },
   "file_extension": ".py",
   "mimetype": "text/x-python",
   "name": "python",
   "nbconvert_exporter": "python",
   "pygments_lexer": "ipython3",
   "version": "3.6.9"
  }
 },
 "nbformat": 4,
 "nbformat_minor": 5
}
